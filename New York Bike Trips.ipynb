{
 "cells": [
  {
   "cell_type": "markdown",
   "id": "40289b8a",
   "metadata": {},
   "source": [
    "# New York Bike Trips"
   ]
  },
  {
   "cell_type": "markdown",
   "id": "228665b7",
   "metadata": {},
   "source": [
    "##### This notebook aims to analyse bike trips from a bike rental company during may month in 2018. \n",
    "The dataset orgins from Kaggle: https://www.kaggle.com/gabrielramos87/bike-trips"
   ]
  },
  {
   "cell_type": "markdown",
   "id": "e68a84e2",
   "metadata": {},
   "source": [
    "Following questions will be analyzed: \n",
    "- What is the age distribution of customers? \n",
    "- What is the distribution between women and men, and age?\n",
    "- What is the trip duration distribution? \n",
    "- What is the ration between subscribers and customers?\n",
    "- Mapping out ten most popular and ten most unpopular start stations\n",
    "- When during the month are the bikes being rented?"
   ]
  },
  {
   "cell_type": "code",
   "execution_count": 224,
   "id": "af7b2426",
   "metadata": {},
   "outputs": [],
   "source": [
    "import pandas as pd\n",
    "import numpy as np\n",
    "import matplotlib.pyplot as plt \n",
    "import statistics as stat"
   ]
  },
  {
   "cell_type": "code",
   "execution_count": 225,
   "id": "119cd0bf",
   "metadata": {},
   "outputs": [],
   "source": [
    "df = pd.read_csv('New York Citibike Trips.csv')"
   ]
  },
  {
   "cell_type": "code",
   "execution_count": 226,
   "id": "3f3f1832",
   "metadata": {},
   "outputs": [
    {
     "data": {
      "text/html": [
       "<div>\n",
       "<style scoped>\n",
       "    .dataframe tbody tr th:only-of-type {\n",
       "        vertical-align: middle;\n",
       "    }\n",
       "\n",
       "    .dataframe tbody tr th {\n",
       "        vertical-align: top;\n",
       "    }\n",
       "\n",
       "    .dataframe thead th {\n",
       "        text-align: right;\n",
       "    }\n",
       "</style>\n",
       "<table border=\"1\" class=\"dataframe\">\n",
       "  <thead>\n",
       "    <tr style=\"text-align: right;\">\n",
       "      <th></th>\n",
       "      <th>start_time</th>\n",
       "      <th>stop_time</th>\n",
       "      <th>start_station_id</th>\n",
       "      <th>start_station_name</th>\n",
       "      <th>end_station_id</th>\n",
       "      <th>end_station_name</th>\n",
       "      <th>user_type</th>\n",
       "      <th>bike_id</th>\n",
       "      <th>gender</th>\n",
       "      <th>age</th>\n",
       "      <th>trip_duration</th>\n",
       "    </tr>\n",
       "  </thead>\n",
       "  <tbody>\n",
       "    <tr>\n",
       "      <th>0</th>\n",
       "      <td>2018-05-31 23:59:59</td>\n",
       "      <td>2018-06-01 00:12:57</td>\n",
       "      <td>312</td>\n",
       "      <td>Allen St &amp; Stanton St</td>\n",
       "      <td>460</td>\n",
       "      <td>S 4 St &amp; Wythe Ave</td>\n",
       "      <td>Subscriber</td>\n",
       "      <td>25805</td>\n",
       "      <td>male</td>\n",
       "      <td>32</td>\n",
       "      <td>12.97</td>\n",
       "    </tr>\n",
       "    <tr>\n",
       "      <th>1</th>\n",
       "      <td>2018-05-31 23:59:59</td>\n",
       "      <td>2018-06-01 00:12:26</td>\n",
       "      <td>401</td>\n",
       "      <td>Allen St &amp; Rivington St</td>\n",
       "      <td>360</td>\n",
       "      <td>William St &amp; Pine St</td>\n",
       "      <td>Subscriber</td>\n",
       "      <td>17258</td>\n",
       "      <td>male</td>\n",
       "      <td>24</td>\n",
       "      <td>12.45</td>\n",
       "    </tr>\n",
       "    <tr>\n",
       "      <th>2</th>\n",
       "      <td>2018-05-31 23:59:51</td>\n",
       "      <td>2018-06-01 00:08:09</td>\n",
       "      <td>483</td>\n",
       "      <td>E 12 St &amp; 3 Ave</td>\n",
       "      <td>368</td>\n",
       "      <td>Carmine St &amp; 6 Ave</td>\n",
       "      <td>Subscriber</td>\n",
       "      <td>19692</td>\n",
       "      <td>male</td>\n",
       "      <td>39</td>\n",
       "      <td>8.28</td>\n",
       "    </tr>\n",
       "    <tr>\n",
       "      <th>3</th>\n",
       "      <td>2018-05-31 23:59:48</td>\n",
       "      <td>2018-06-01 00:07:33</td>\n",
       "      <td>3107</td>\n",
       "      <td>Bedford Ave &amp; Nassau Ave</td>\n",
       "      <td>3076</td>\n",
       "      <td>Scholes St &amp; Manhattan Ave</td>\n",
       "      <td>Subscriber</td>\n",
       "      <td>28285</td>\n",
       "      <td>male</td>\n",
       "      <td>28</td>\n",
       "      <td>7.75</td>\n",
       "    </tr>\n",
       "    <tr>\n",
       "      <th>4</th>\n",
       "      <td>2018-05-31 23:59:45</td>\n",
       "      <td>2018-06-01 00:07:48</td>\n",
       "      <td>3341</td>\n",
       "      <td>Central Park West &amp; W 102 St</td>\n",
       "      <td>3400</td>\n",
       "      <td>E 110 St &amp; Madison Ave</td>\n",
       "      <td>Subscriber</td>\n",
       "      <td>21000</td>\n",
       "      <td>female</td>\n",
       "      <td>51</td>\n",
       "      <td>8.05</td>\n",
       "    </tr>\n",
       "  </tbody>\n",
       "</table>\n",
       "</div>"
      ],
      "text/plain": [
       "            start_time            stop_time  start_station_id  \\\n",
       "0  2018-05-31 23:59:59  2018-06-01 00:12:57               312   \n",
       "1  2018-05-31 23:59:59  2018-06-01 00:12:26               401   \n",
       "2  2018-05-31 23:59:51  2018-06-01 00:08:09               483   \n",
       "3  2018-05-31 23:59:48  2018-06-01 00:07:33              3107   \n",
       "4  2018-05-31 23:59:45  2018-06-01 00:07:48              3341   \n",
       "\n",
       "             start_station_name  end_station_id            end_station_name  \\\n",
       "0         Allen St & Stanton St             460          S 4 St & Wythe Ave   \n",
       "1       Allen St & Rivington St             360        William St & Pine St   \n",
       "2               E 12 St & 3 Ave             368          Carmine St & 6 Ave   \n",
       "3      Bedford Ave & Nassau Ave            3076  Scholes St & Manhattan Ave   \n",
       "4  Central Park West & W 102 St            3400      E 110 St & Madison Ave   \n",
       "\n",
       "    user_type  bike_id  gender  age  trip_duration  \n",
       "0  Subscriber    25805    male   32          12.97  \n",
       "1  Subscriber    17258    male   24          12.45  \n",
       "2  Subscriber    19692    male   39           8.28  \n",
       "3  Subscriber    28285    male   28           7.75  \n",
       "4  Subscriber    21000  female   51           8.05  "
      ]
     },
     "execution_count": 226,
     "metadata": {},
     "output_type": "execute_result"
    }
   ],
   "source": [
    "df.head()"
   ]
  },
  {
   "cell_type": "code",
   "execution_count": 227,
   "id": "6d385f5a",
   "metadata": {},
   "outputs": [
    {
     "data": {
      "text/html": [
       "<div>\n",
       "<style scoped>\n",
       "    .dataframe tbody tr th:only-of-type {\n",
       "        vertical-align: middle;\n",
       "    }\n",
       "\n",
       "    .dataframe tbody tr th {\n",
       "        vertical-align: top;\n",
       "    }\n",
       "\n",
       "    .dataframe thead th {\n",
       "        text-align: right;\n",
       "    }\n",
       "</style>\n",
       "<table border=\"1\" class=\"dataframe\">\n",
       "  <thead>\n",
       "    <tr style=\"text-align: right;\">\n",
       "      <th></th>\n",
       "      <th>start_time</th>\n",
       "      <th>stop_time</th>\n",
       "      <th>start_station_id</th>\n",
       "      <th>start_station_name</th>\n",
       "      <th>end_station_id</th>\n",
       "      <th>end_station_name</th>\n",
       "      <th>user_type</th>\n",
       "      <th>bike_id</th>\n",
       "      <th>gender</th>\n",
       "      <th>age</th>\n",
       "      <th>trip_duration</th>\n",
       "    </tr>\n",
       "  </thead>\n",
       "  <tbody>\n",
       "    <tr>\n",
       "      <th>1595329</th>\n",
       "      <td>2018-05-01 00:01:00</td>\n",
       "      <td>2018-05-01 00:08:02</td>\n",
       "      <td>3493</td>\n",
       "      <td>E 118 St &amp; 3 Ave</td>\n",
       "      <td>3351</td>\n",
       "      <td>E 102 St &amp; 1 Ave</td>\n",
       "      <td>Subscriber</td>\n",
       "      <td>30645</td>\n",
       "      <td>male</td>\n",
       "      <td>32</td>\n",
       "      <td>7.02</td>\n",
       "    </tr>\n",
       "    <tr>\n",
       "      <th>1595330</th>\n",
       "      <td>2018-05-01 00:00:43</td>\n",
       "      <td>2018-05-01 00:05:40</td>\n",
       "      <td>532</td>\n",
       "      <td>S 5 Pl &amp; S 5 St</td>\n",
       "      <td>3096</td>\n",
       "      <td>Union Ave &amp; N 12 St</td>\n",
       "      <td>Subscriber</td>\n",
       "      <td>16980</td>\n",
       "      <td>male</td>\n",
       "      <td>33</td>\n",
       "      <td>4.95</td>\n",
       "    </tr>\n",
       "    <tr>\n",
       "      <th>1595331</th>\n",
       "      <td>2018-05-01 00:00:40</td>\n",
       "      <td>2018-05-01 00:08:03</td>\n",
       "      <td>3263</td>\n",
       "      <td>Cooper Square &amp; Astor Pl</td>\n",
       "      <td>546</td>\n",
       "      <td>E 30 St &amp; Park Ave S</td>\n",
       "      <td>Subscriber</td>\n",
       "      <td>27255</td>\n",
       "      <td>male</td>\n",
       "      <td>49</td>\n",
       "      <td>7.38</td>\n",
       "    </tr>\n",
       "    <tr>\n",
       "      <th>1595332</th>\n",
       "      <td>2018-05-01 00:00:35</td>\n",
       "      <td>2018-05-01 00:12:16</td>\n",
       "      <td>507</td>\n",
       "      <td>E 25 St &amp; 2 Ave</td>\n",
       "      <td>3458</td>\n",
       "      <td>W 55 St &amp; 6 Ave</td>\n",
       "      <td>Subscriber</td>\n",
       "      <td>29357</td>\n",
       "      <td>male</td>\n",
       "      <td>22</td>\n",
       "      <td>11.67</td>\n",
       "    </tr>\n",
       "    <tr>\n",
       "      <th>1595333</th>\n",
       "      <td>2018-05-01 00:00:11</td>\n",
       "      <td>2018-05-01 00:05:14</td>\n",
       "      <td>491</td>\n",
       "      <td>E 24 St &amp; Park Ave S</td>\n",
       "      <td>2003</td>\n",
       "      <td>1 Ave &amp; E 18 St</td>\n",
       "      <td>Subscriber</td>\n",
       "      <td>32191</td>\n",
       "      <td>male</td>\n",
       "      <td>34</td>\n",
       "      <td>5.05</td>\n",
       "    </tr>\n",
       "  </tbody>\n",
       "</table>\n",
       "</div>"
      ],
      "text/plain": [
       "                  start_time            stop_time  start_station_id  \\\n",
       "1595329  2018-05-01 00:01:00  2018-05-01 00:08:02              3493   \n",
       "1595330  2018-05-01 00:00:43  2018-05-01 00:05:40               532   \n",
       "1595331  2018-05-01 00:00:40  2018-05-01 00:08:03              3263   \n",
       "1595332  2018-05-01 00:00:35  2018-05-01 00:12:16               507   \n",
       "1595333  2018-05-01 00:00:11  2018-05-01 00:05:14               491   \n",
       "\n",
       "               start_station_name  end_station_id      end_station_name  \\\n",
       "1595329          E 118 St & 3 Ave            3351      E 102 St & 1 Ave   \n",
       "1595330           S 5 Pl & S 5 St            3096   Union Ave & N 12 St   \n",
       "1595331  Cooper Square & Astor Pl             546  E 30 St & Park Ave S   \n",
       "1595332           E 25 St & 2 Ave            3458       W 55 St & 6 Ave   \n",
       "1595333      E 24 St & Park Ave S            2003       1 Ave & E 18 St   \n",
       "\n",
       "          user_type  bike_id gender  age  trip_duration  \n",
       "1595329  Subscriber    30645   male   32           7.02  \n",
       "1595330  Subscriber    16980   male   33           4.95  \n",
       "1595331  Subscriber    27255   male   49           7.38  \n",
       "1595332  Subscriber    29357   male   22          11.67  \n",
       "1595333  Subscriber    32191   male   34           5.05  "
      ]
     },
     "execution_count": 227,
     "metadata": {},
     "output_type": "execute_result"
    }
   ],
   "source": [
    "df.tail()"
   ]
  },
  {
   "cell_type": "code",
   "execution_count": 228,
   "id": "b1646474",
   "metadata": {},
   "outputs": [
    {
     "name": "stdout",
     "output_type": "stream",
     "text": [
      "<class 'pandas.core.frame.DataFrame'>\n",
      "RangeIndex: 1595334 entries, 0 to 1595333\n",
      "Data columns (total 11 columns):\n",
      " #   Column              Non-Null Count    Dtype  \n",
      "---  ------              --------------    -----  \n",
      " 0   start_time          1595334 non-null  object \n",
      " 1   stop_time           1595334 non-null  object \n",
      " 2   start_station_id    1595334 non-null  int64  \n",
      " 3   start_station_name  1595334 non-null  object \n",
      " 4   end_station_id      1595334 non-null  int64  \n",
      " 5   end_station_name    1595334 non-null  object \n",
      " 6   user_type           1595334 non-null  object \n",
      " 7   bike_id             1595334 non-null  int64  \n",
      " 8   gender              1595334 non-null  object \n",
      " 9   age                 1595334 non-null  int64  \n",
      " 10  trip_duration       1595334 non-null  float64\n",
      "dtypes: float64(1), int64(4), object(6)\n",
      "memory usage: 133.9+ MB\n"
     ]
    }
   ],
   "source": [
    "df.info()"
   ]
  },
  {
   "cell_type": "code",
   "execution_count": 229,
   "id": "ed37ddd7",
   "metadata": {
    "scrolled": true
   },
   "outputs": [
    {
     "data": {
      "text/html": [
       "<div>\n",
       "<style scoped>\n",
       "    .dataframe tbody tr th:only-of-type {\n",
       "        vertical-align: middle;\n",
       "    }\n",
       "\n",
       "    .dataframe tbody tr th {\n",
       "        vertical-align: top;\n",
       "    }\n",
       "\n",
       "    .dataframe thead th {\n",
       "        text-align: right;\n",
       "    }\n",
       "</style>\n",
       "<table border=\"1\" class=\"dataframe\">\n",
       "  <thead>\n",
       "    <tr style=\"text-align: right;\">\n",
       "      <th></th>\n",
       "      <th>start_station_id</th>\n",
       "      <th>end_station_id</th>\n",
       "      <th>bike_id</th>\n",
       "      <th>age</th>\n",
       "      <th>trip_duration</th>\n",
       "    </tr>\n",
       "  </thead>\n",
       "  <tbody>\n",
       "    <tr>\n",
       "      <th>count</th>\n",
       "      <td>1.595334e+06</td>\n",
       "      <td>1.595334e+06</td>\n",
       "      <td>1.595334e+06</td>\n",
       "      <td>1.595334e+06</td>\n",
       "      <td>1.595334e+06</td>\n",
       "    </tr>\n",
       "    <tr>\n",
       "      <th>mean</th>\n",
       "      <td>1.548185e+03</td>\n",
       "      <td>1.537103e+03</td>\n",
       "      <td>2.620161e+04</td>\n",
       "      <td>3.785808e+01</td>\n",
       "      <td>1.643375e+01</td>\n",
       "    </tr>\n",
       "    <tr>\n",
       "      <th>std</th>\n",
       "      <td>1.427931e+03</td>\n",
       "      <td>1.426690e+03</td>\n",
       "      <td>5.784637e+03</td>\n",
       "      <td>1.102715e+01</td>\n",
       "      <td>2.848633e+02</td>\n",
       "    </tr>\n",
       "    <tr>\n",
       "      <th>min</th>\n",
       "      <td>7.200000e+01</td>\n",
       "      <td>7.200000e+01</td>\n",
       "      <td>1.452900e+04</td>\n",
       "      <td>1.600000e+01</td>\n",
       "      <td>1.020000e+00</td>\n",
       "    </tr>\n",
       "    <tr>\n",
       "      <th>25%</th>\n",
       "      <td>3.800000e+02</td>\n",
       "      <td>3.790000e+02</td>\n",
       "      <td>2.062600e+04</td>\n",
       "      <td>2.900000e+01</td>\n",
       "      <td>6.120000e+00</td>\n",
       "    </tr>\n",
       "    <tr>\n",
       "      <th>50%</th>\n",
       "      <td>5.020000e+02</td>\n",
       "      <td>5.010000e+02</td>\n",
       "      <td>2.786500e+04</td>\n",
       "      <td>3.500000e+01</td>\n",
       "      <td>1.027000e+01</td>\n",
       "    </tr>\n",
       "    <tr>\n",
       "      <th>75%</th>\n",
       "      <td>3.232000e+03</td>\n",
       "      <td>3.232000e+03</td>\n",
       "      <td>3.102600e+04</td>\n",
       "      <td>4.600000e+01</td>\n",
       "      <td>1.767000e+01</td>\n",
       "    </tr>\n",
       "    <tr>\n",
       "      <th>max</th>\n",
       "      <td>3.686000e+03</td>\n",
       "      <td>3.686000e+03</td>\n",
       "      <td>3.369000e+04</td>\n",
       "      <td>6.500000e+01</td>\n",
       "      <td>1.117817e+05</td>\n",
       "    </tr>\n",
       "  </tbody>\n",
       "</table>\n",
       "</div>"
      ],
      "text/plain": [
       "       start_station_id  end_station_id       bike_id           age  \\\n",
       "count      1.595334e+06    1.595334e+06  1.595334e+06  1.595334e+06   \n",
       "mean       1.548185e+03    1.537103e+03  2.620161e+04  3.785808e+01   \n",
       "std        1.427931e+03    1.426690e+03  5.784637e+03  1.102715e+01   \n",
       "min        7.200000e+01    7.200000e+01  1.452900e+04  1.600000e+01   \n",
       "25%        3.800000e+02    3.790000e+02  2.062600e+04  2.900000e+01   \n",
       "50%        5.020000e+02    5.010000e+02  2.786500e+04  3.500000e+01   \n",
       "75%        3.232000e+03    3.232000e+03  3.102600e+04  4.600000e+01   \n",
       "max        3.686000e+03    3.686000e+03  3.369000e+04  6.500000e+01   \n",
       "\n",
       "       trip_duration  \n",
       "count   1.595334e+06  \n",
       "mean    1.643375e+01  \n",
       "std     2.848633e+02  \n",
       "min     1.020000e+00  \n",
       "25%     6.120000e+00  \n",
       "50%     1.027000e+01  \n",
       "75%     1.767000e+01  \n",
       "max     1.117817e+05  "
      ]
     },
     "execution_count": 229,
     "metadata": {},
     "output_type": "execute_result"
    }
   ],
   "source": [
    "df.describe()"
   ]
  },
  {
   "cell_type": "code",
   "execution_count": 230,
   "id": "5a48f139",
   "metadata": {},
   "outputs": [
    {
     "data": {
      "text/plain": [
       "Index(['start_time', 'stop_time', 'start_station_id', 'start_station_name',\n",
       "       'end_station_id', 'end_station_name', 'user_type', 'bike_id', 'gender',\n",
       "       'age', 'trip_duration'],\n",
       "      dtype='object')"
      ]
     },
     "execution_count": 230,
     "metadata": {},
     "output_type": "execute_result"
    }
   ],
   "source": [
    "df.columns"
   ]
  },
  {
   "cell_type": "code",
   "execution_count": 231,
   "id": "76827d07",
   "metadata": {},
   "outputs": [
    {
     "data": {
      "text/plain": [
       "65"
      ]
     },
     "execution_count": 231,
     "metadata": {},
     "output_type": "execute_result"
    }
   ],
   "source": [
    "max(df['age'])"
   ]
  },
  {
   "cell_type": "code",
   "execution_count": 232,
   "id": "cd0d3e8f",
   "metadata": {},
   "outputs": [
    {
     "data": {
      "text/plain": [
       "16"
      ]
     },
     "execution_count": 232,
     "metadata": {},
     "output_type": "execute_result"
    }
   ],
   "source": [
    "min(df['age'])"
   ]
  },
  {
   "cell_type": "code",
   "execution_count": 233,
   "id": "f43c0cd9",
   "metadata": {},
   "outputs": [
    {
     "data": {
      "text/plain": [
       "37.85808300957668"
      ]
     },
     "execution_count": 233,
     "metadata": {},
     "output_type": "execute_result"
    }
   ],
   "source": [
    "stat.mean(df['age'])"
   ]
  },
  {
   "cell_type": "markdown",
   "id": "fa6f00da",
   "metadata": {},
   "source": [
    "#### What is the age distribution of customers? "
   ]
  },
  {
   "cell_type": "code",
   "execution_count": 234,
   "id": "be616dab",
   "metadata": {},
   "outputs": [
    {
     "data": {
      "text/plain": [
       "Text(0.5, 0, 'Age')"
      ]
     },
     "execution_count": 234,
     "metadata": {},
     "output_type": "execute_result"
    },
    {
     "data": {
      "image/png": "[encoded data removed]",
      "text/plain": [
       "<Figure size 432x288 with 1 Axes>"
      ]
     },
     "metadata": {
      "needs_background": "light"
     },
     "output_type": "display_data"
    }
   ],
   "source": [
    "plt.hist(df['age'], density = False, bins = 100)\n",
    "plt.ylabel('Count of bike riders')\n",
    "plt.xlabel('Age')"
   ]
  },
  {
   "cell_type": "markdown",
   "id": "e9fab7cb",
   "metadata": {},
   "source": [
    "Users between age 25-35 are most common. Most of the users are 30 years old."
   ]
  },
  {
   "cell_type": "markdown",
   "id": "2a26dc5b",
   "metadata": {},
   "source": [
    "#### What is the distribution between women and men, and age?"
   ]
  },
  {
   "cell_type": "code",
   "execution_count": 235,
   "id": "4202510f",
   "metadata": {},
   "outputs": [
    {
     "data": {
      "text/plain": [
       "age\n",
       "(15, 20]     21282\n",
       "(20, 25]    146382\n",
       "(25, 30]    335036\n",
       "(30, 35]    300082\n",
       "(35, 40]    217350\n",
       "(40, 45]    163395\n",
       "(45, 50]    149737\n",
       "(50, 55]    120225\n",
       "(55, 60]     89698\n",
       "(60, 65]     52147\n",
       "(65, 70]         0\n",
       "Name: gender, dtype: int64"
      ]
     },
     "execution_count": 235,
     "metadata": {},
     "output_type": "execute_result"
    }
   ],
   "source": [
    "age_groups = pd.cut(df['age'], bins=[15, 20, 25, 30, 35, 40, 45, 50, 55, 60, 65, 70])\n",
    "df.groupby(age_groups)['gender'].count()"
   ]
  },
  {
   "cell_type": "code",
   "execution_count": 236,
   "id": "c0bbdf71",
   "metadata": {},
   "outputs": [],
   "source": [
    "df2 = pd.crosstab(age_groups, df['gender'])"
   ]
  },
  {
   "cell_type": "code",
   "execution_count": 237,
   "id": "e499b621",
   "metadata": {},
   "outputs": [],
   "source": [
    "df2['age'] = df['age'].astype(object)"
   ]
  },
  {
   "cell_type": "code",
   "execution_count": 238,
   "id": "8546e768",
   "metadata": {},
   "outputs": [],
   "source": [
    "df2 = df2.drop(columns = 'age')"
   ]
  },
  {
   "cell_type": "code",
   "execution_count": 239,
   "id": "f4cc3540",
   "metadata": {},
   "outputs": [
    {
     "name": "stdout",
     "output_type": "stream",
     "text": [
      "<class 'pandas.core.frame.DataFrame'>\n",
      "CategoricalIndex: 10 entries, (15, 20] to (60, 65]\n",
      "Data columns (total 2 columns):\n",
      " #   Column  Non-Null Count  Dtype\n",
      "---  ------  --------------  -----\n",
      " 0   female  10 non-null     int64\n",
      " 1   male    10 non-null     int64\n",
      "dtypes: int64(2)\n",
      "memory usage: 946.0 bytes\n"
     ]
    }
   ],
   "source": [
    "df2.info()"
   ]
  },
  {
   "cell_type": "code",
   "execution_count": 240,
   "id": "61fc5ef1",
   "metadata": {},
   "outputs": [
    {
     "data": {
      "text/html": [
       "<div>\n",
       "<style scoped>\n",
       "    .dataframe tbody tr th:only-of-type {\n",
       "        vertical-align: middle;\n",
       "    }\n",
       "\n",
       "    .dataframe tbody tr th {\n",
       "        vertical-align: top;\n",
       "    }\n",
       "\n",
       "    .dataframe thead th {\n",
       "        text-align: right;\n",
       "    }\n",
       "</style>\n",
       "<table border=\"1\" class=\"dataframe\">\n",
       "  <thead>\n",
       "    <tr style=\"text-align: right;\">\n",
       "      <th>gender</th>\n",
       "      <th>female</th>\n",
       "      <th>male</th>\n",
       "    </tr>\n",
       "    <tr>\n",
       "      <th>age</th>\n",
       "      <th></th>\n",
       "      <th></th>\n",
       "    </tr>\n",
       "  </thead>\n",
       "  <tbody>\n",
       "    <tr>\n",
       "      <th>(15, 20]</th>\n",
       "      <td>5235</td>\n",
       "      <td>16047</td>\n",
       "    </tr>\n",
       "    <tr>\n",
       "      <th>(20, 25]</th>\n",
       "      <td>45317</td>\n",
       "      <td>101065</td>\n",
       "    </tr>\n",
       "    <tr>\n",
       "      <th>(25, 30]</th>\n",
       "      <td>98640</td>\n",
       "      <td>236396</td>\n",
       "    </tr>\n",
       "    <tr>\n",
       "      <th>(30, 35]</th>\n",
       "      <td>79659</td>\n",
       "      <td>220423</td>\n",
       "    </tr>\n",
       "    <tr>\n",
       "      <th>(35, 40]</th>\n",
       "      <td>49131</td>\n",
       "      <td>168219</td>\n",
       "    </tr>\n",
       "  </tbody>\n",
       "</table>\n",
       "</div>"
      ],
      "text/plain": [
       "gender    female    male\n",
       "age                     \n",
       "(15, 20]    5235   16047\n",
       "(20, 25]   45317  101065\n",
       "(25, 30]   98640  236396\n",
       "(30, 35]   79659  220423\n",
       "(35, 40]   49131  168219"
      ]
     },
     "execution_count": 240,
     "metadata": {},
     "output_type": "execute_result"
    }
   ],
   "source": [
    "df2.head()"
   ]
  },
  {
   "cell_type": "code",
   "execution_count": 241,
   "id": "a97873ab",
   "metadata": {
    "scrolled": true
   },
   "outputs": [
    {
     "data": {
      "text/plain": [
       "Text(0, 0.5, 'Number of customers')"
      ]
     },
     "execution_count": 241,
     "metadata": {},
     "output_type": "execute_result"
    },
    {
     "data": {
      "image/png": "[encoded data removed]",
      "text/plain": [
       "<Figure size 1008x432 with 1 Axes>"
      ]
     },
     "metadata": {
      "needs_background": "light"
     },
     "output_type": "display_data"
    }
   ],
   "source": [
    "df2.plot(kind = 'bar', stacked = False, figsize=(14,6), colormap='tab20')\n",
    "plt.title('Age and gender distribution')\n",
    "plt.xlabel('Age bin')\n",
    "plt.ylabel('Number of customers')"
   ]
  },
  {
   "cell_type": "markdown",
   "id": "b1027322",
   "metadata": {},
   "source": [
    "#### What is the trip duration distribution? "
   ]
  },
  {
   "cell_type": "code",
   "execution_count": 242,
   "id": "d351333e",
   "metadata": {},
   "outputs": [],
   "source": [
    "df['trip_duration_rounded'] = df['trip_duration'].round()"
   ]
  },
  {
   "cell_type": "code",
   "execution_count": 243,
   "id": "e0c94882",
   "metadata": {},
   "outputs": [],
   "source": [
    "df['trip_duration_rounded'] = df['trip_duration_rounded'].astype(int)"
   ]
  },
  {
   "cell_type": "code",
   "execution_count": 244,
   "id": "611f39fe",
   "metadata": {},
   "outputs": [
    {
     "data": {
      "text/plain": [
       "111782"
      ]
     },
     "execution_count": 244,
     "metadata": {},
     "output_type": "execute_result"
    }
   ],
   "source": [
    "df['trip_duration_rounded'].max()"
   ]
  },
  {
   "cell_type": "code",
   "execution_count": 245,
   "id": "19da3e0b",
   "metadata": {},
   "outputs": [],
   "source": [
    "df_trip = df.groupby(['trip_duration_rounded', 'gender']).trip_duration_rounded.count().unstack()"
   ]
  },
  {
   "cell_type": "code",
   "execution_count": 246,
   "id": "372cec62",
   "metadata": {},
   "outputs": [],
   "source": [
    "df_trip = df_trip.dropna()"
   ]
  },
  {
   "cell_type": "code",
   "execution_count": 247,
   "id": "7b92b69d",
   "metadata": {},
   "outputs": [
    {
     "name": "stdout",
     "output_type": "stream",
     "text": [
      "<class 'pandas.core.frame.DataFrame'>\n",
      "Int64Index: 381 entries, 1 to 1380\n",
      "Data columns (total 2 columns):\n",
      " #   Column  Non-Null Count  Dtype  \n",
      "---  ------  --------------  -----  \n",
      " 0   female  381 non-null    float64\n",
      " 1   male    381 non-null    float64\n",
      "dtypes: float64(2)\n",
      "memory usage: 8.9 KB\n"
     ]
    }
   ],
   "source": [
    "df_trip.info()"
   ]
  },
  {
   "cell_type": "code",
   "execution_count": 248,
   "id": "5bb6a40f",
   "metadata": {},
   "outputs": [
    {
     "data": {
      "text/plain": [
       "Text(0, 0.5, 'Number of customers')"
      ]
     },
     "execution_count": 248,
     "metadata": {},
     "output_type": "execute_result"
    },
    {
     "data": {
      "image/png": "[encoded data removed]",
      "text/plain": [
       "<Figure size 1152x576 with 1 Axes>"
      ]
     },
     "metadata": {
      "needs_background": "light"
     },
     "output_type": "display_data"
    }
   ],
   "source": [
    "df_trip.plot(kind = 'line', figsize=(16,8))\n",
    "plt.title('Age and gender distribution')\n",
    "plt.xlabel('Length of Trip')\n",
    "plt.ylabel('Number of customers')"
   ]
  },
  {
   "cell_type": "markdown",
   "id": "c02b7ffb",
   "metadata": {},
   "source": [
    "I would like to know more about the trips that are longer than 50 minutes. My theory is that some of these customer have forgotten to stop the renting of the bikes. This makes me cuyrios about the pricing model of the business."
   ]
  },
  {
   "cell_type": "code",
   "execution_count": 249,
   "id": "71fd1624",
   "metadata": {},
   "outputs": [],
   "source": [
    "df_trip = df_trip.reset_index()"
   ]
  },
  {
   "cell_type": "code",
   "execution_count": 250,
   "id": "1a439c73",
   "metadata": {},
   "outputs": [
    {
     "name": "stdout",
     "output_type": "stream",
     "text": [
      "<class 'pandas.core.frame.DataFrame'>\n",
      "RangeIndex: 381 entries, 0 to 380\n",
      "Data columns (total 3 columns):\n",
      " #   Column                 Non-Null Count  Dtype  \n",
      "---  ------                 --------------  -----  \n",
      " 0   trip_duration_rounded  381 non-null    int64  \n",
      " 1   female                 381 non-null    float64\n",
      " 2   male                   381 non-null    float64\n",
      "dtypes: float64(2), int64(1)\n",
      "memory usage: 9.1 KB\n"
     ]
    }
   ],
   "source": [
    "df_trip.info()"
   ]
  },
  {
   "cell_type": "code",
   "execution_count": 251,
   "id": "048a0bce",
   "metadata": {},
   "outputs": [],
   "source": [
    "df_trip_1 = df_trip[df_trip['trip_duration_rounded'] < 50]"
   ]
  },
  {
   "cell_type": "code",
   "execution_count": 252,
   "id": "710639c4",
   "metadata": {},
   "outputs": [],
   "source": [
    "df_trip_1 = df_trip_1.set_index('trip_duration_rounded')"
   ]
  },
  {
   "cell_type": "code",
   "execution_count": 253,
   "id": "39c61562",
   "metadata": {},
   "outputs": [
    {
     "data": {
      "text/plain": [
       "Text(0, 0.5, 'Number of trips')"
      ]
     },
     "execution_count": 253,
     "metadata": {},
     "output_type": "execute_result"
    },
    {
     "data": {
      "image/png": "[encoded data removed]",
      "text/plain": [
       "<Figure size 1152x576 with 1 Axes>"
      ]
     },
     "metadata": {
      "needs_background": "light"
     },
     "output_type": "display_data"
    }
   ],
   "source": [
    "df_trip_1.plot(kind = 'bar', figsize=(16,8), colormap = 'tab20c')\n",
    "plt.title('Distribution of length per trip and gender')\n",
    "plt.xlabel('Length of trip (minutes)')\n",
    "plt.ylabel('Number of trips')"
   ]
  },
  {
   "cell_type": "markdown",
   "id": "20df2172",
   "metadata": {},
   "source": [
    "Most common length of a bikeride is between 6-8 minutes."
   ]
  },
  {
   "cell_type": "markdown",
   "id": "3e0ffff0",
   "metadata": {},
   "source": [
    "#### What is the ration between subscribers and customers?"
   ]
  },
  {
   "cell_type": "code",
   "execution_count": 254,
   "id": "a9fa8976",
   "metadata": {},
   "outputs": [
    {
     "name": "stdout",
     "output_type": "stream",
     "text": [
      "Subscriber    1521005\n",
      "Customer        74329\n",
      "Name: user_type, dtype: int64\n"
     ]
    }
   ],
   "source": [
    "no_user_type = df['user_type'].value_counts()\n",
    "print(no_user_type)"
   ]
  },
  {
   "cell_type": "code",
   "execution_count": 255,
   "id": "a86080df",
   "metadata": {},
   "outputs": [
    {
     "name": "stdout",
     "output_type": "stream",
     "text": [
      "Subscriber    0.953409\n",
      "Customer      0.046591\n",
      "Name: user_type, dtype: float64\n"
     ]
    }
   ],
   "source": [
    "percent_user_type = df['user_type'].value_counts(normalize=True)\n",
    "print(percent_user_type)"
   ]
  },
  {
   "cell_type": "markdown",
   "id": "7b27c5c8",
   "metadata": {},
   "source": [
    "95% of users are subsribers, the rest are customers"
   ]
  },
  {
   "cell_type": "markdown",
   "id": "d26e07e3",
   "metadata": {},
   "source": [
    "#### Mapping out ten most popular and ten most unpopular start stations"
   ]
  },
  {
   "cell_type": "code",
   "execution_count": 256,
   "id": "1dc7bba3",
   "metadata": {},
   "outputs": [
    {
     "data": {
      "text/plain": [
       "Index(['start_time', 'stop_time', 'start_station_id', 'start_station_name',\n",
       "       'end_station_id', 'end_station_name', 'user_type', 'bike_id', 'gender',\n",
       "       'age', 'trip_duration', 'trip_duration_rounded'],\n",
       "      dtype='object')"
      ]
     },
     "execution_count": 256,
     "metadata": {},
     "output_type": "execute_result"
    }
   ],
   "source": [
    "df.columns"
   ]
  },
  {
   "cell_type": "code",
   "execution_count": 257,
   "id": "f69fe6f2",
   "metadata": {},
   "outputs": [
    {
     "data": {
      "text/html": [
       "<div>\n",
       "<style scoped>\n",
       "    .dataframe tbody tr th:only-of-type {\n",
       "        vertical-align: middle;\n",
       "    }\n",
       "\n",
       "    .dataframe tbody tr th {\n",
       "        vertical-align: top;\n",
       "    }\n",
       "\n",
       "    .dataframe thead th {\n",
       "        text-align: right;\n",
       "    }\n",
       "</style>\n",
       "<table border=\"1\" class=\"dataframe\">\n",
       "  <thead>\n",
       "    <tr style=\"text-align: right;\">\n",
       "      <th></th>\n",
       "      <th>start_station_id</th>\n",
       "      <th>start_station_name</th>\n",
       "      <th>end_station_id</th>\n",
       "      <th>end_station_name</th>\n",
       "    </tr>\n",
       "  </thead>\n",
       "  <tbody>\n",
       "    <tr>\n",
       "      <th>0</th>\n",
       "      <td>312</td>\n",
       "      <td>Allen St &amp; Stanton St</td>\n",
       "      <td>460</td>\n",
       "      <td>S 4 St &amp; Wythe Ave</td>\n",
       "    </tr>\n",
       "    <tr>\n",
       "      <th>1</th>\n",
       "      <td>401</td>\n",
       "      <td>Allen St &amp; Rivington St</td>\n",
       "      <td>360</td>\n",
       "      <td>William St &amp; Pine St</td>\n",
       "    </tr>\n",
       "    <tr>\n",
       "      <th>2</th>\n",
       "      <td>483</td>\n",
       "      <td>E 12 St &amp; 3 Ave</td>\n",
       "      <td>368</td>\n",
       "      <td>Carmine St &amp; 6 Ave</td>\n",
       "    </tr>\n",
       "    <tr>\n",
       "      <th>3</th>\n",
       "      <td>3107</td>\n",
       "      <td>Bedford Ave &amp; Nassau Ave</td>\n",
       "      <td>3076</td>\n",
       "      <td>Scholes St &amp; Manhattan Ave</td>\n",
       "    </tr>\n",
       "    <tr>\n",
       "      <th>4</th>\n",
       "      <td>3341</td>\n",
       "      <td>Central Park West &amp; W 102 St</td>\n",
       "      <td>3400</td>\n",
       "      <td>E 110 St &amp; Madison Ave</td>\n",
       "    </tr>\n",
       "  </tbody>\n",
       "</table>\n",
       "</div>"
      ],
      "text/plain": [
       "   start_station_id            start_station_name  end_station_id  \\\n",
       "0               312         Allen St & Stanton St             460   \n",
       "1               401       Allen St & Rivington St             360   \n",
       "2               483               E 12 St & 3 Ave             368   \n",
       "3              3107      Bedford Ave & Nassau Ave            3076   \n",
       "4              3341  Central Park West & W 102 St            3400   \n",
       "\n",
       "             end_station_name  \n",
       "0          S 4 St & Wythe Ave  \n",
       "1        William St & Pine St  \n",
       "2          Carmine St & 6 Ave  \n",
       "3  Scholes St & Manhattan Ave  \n",
       "4      E 110 St & Madison Ave  "
      ]
     },
     "execution_count": 257,
     "metadata": {},
     "output_type": "execute_result"
    }
   ],
   "source": [
    "df_loc = df.iloc[: , [2, 3, 4, 5]].copy()\n",
    "df_loc.head()"
   ]
  },
  {
   "cell_type": "code",
   "execution_count": 258,
   "id": "a376bafa",
   "metadata": {},
   "outputs": [
    {
     "data": {
      "text/html": [
       "<div>\n",
       "<style scoped>\n",
       "    .dataframe tbody tr th:only-of-type {\n",
       "        vertical-align: middle;\n",
       "    }\n",
       "\n",
       "    .dataframe tbody tr th {\n",
       "        vertical-align: top;\n",
       "    }\n",
       "\n",
       "    .dataframe thead th {\n",
       "        text-align: right;\n",
       "    }\n",
       "</style>\n",
       "<table border=\"1\" class=\"dataframe\">\n",
       "  <thead>\n",
       "    <tr style=\"text-align: right;\">\n",
       "      <th></th>\n",
       "      <th>start_station_id</th>\n",
       "      <th>start_stations_count</th>\n",
       "    </tr>\n",
       "  </thead>\n",
       "  <tbody>\n",
       "    <tr>\n",
       "      <th>0</th>\n",
       "      <td>519</td>\n",
       "      <td>15504</td>\n",
       "    </tr>\n",
       "    <tr>\n",
       "      <th>1</th>\n",
       "      <td>435</td>\n",
       "      <td>11329</td>\n",
       "    </tr>\n",
       "    <tr>\n",
       "      <th>2</th>\n",
       "      <td>402</td>\n",
       "      <td>10339</td>\n",
       "    </tr>\n",
       "    <tr>\n",
       "      <th>3</th>\n",
       "      <td>492</td>\n",
       "      <td>10259</td>\n",
       "    </tr>\n",
       "    <tr>\n",
       "      <th>4</th>\n",
       "      <td>497</td>\n",
       "      <td>9867</td>\n",
       "    </tr>\n",
       "    <tr>\n",
       "      <th>5</th>\n",
       "      <td>426</td>\n",
       "      <td>9735</td>\n",
       "    </tr>\n",
       "    <tr>\n",
       "      <th>6</th>\n",
       "      <td>477</td>\n",
       "      <td>9471</td>\n",
       "    </tr>\n",
       "    <tr>\n",
       "      <th>7</th>\n",
       "      <td>462</td>\n",
       "      <td>9141</td>\n",
       "    </tr>\n",
       "    <tr>\n",
       "      <th>8</th>\n",
       "      <td>285</td>\n",
       "      <td>8740</td>\n",
       "    </tr>\n",
       "    <tr>\n",
       "      <th>9</th>\n",
       "      <td>379</td>\n",
       "      <td>8527</td>\n",
       "    </tr>\n",
       "  </tbody>\n",
       "</table>\n",
       "</div>"
      ],
      "text/plain": [
       "   start_station_id  start_stations_count\n",
       "0               519                 15504\n",
       "1               435                 11329\n",
       "2               402                 10339\n",
       "3               492                 10259\n",
       "4               497                  9867\n",
       "5               426                  9735\n",
       "6               477                  9471\n",
       "7               462                  9141\n",
       "8               285                  8740\n",
       "9               379                  8527"
      ]
     },
     "execution_count": 258,
     "metadata": {},
     "output_type": "execute_result"
    }
   ],
   "source": [
    "df_start = df_loc['start_station_id'].value_counts().sort_values(ascending=False).to_frame()\n",
    "df_start = df_start.reset_index()\n",
    "df_start = df_start.rename(columns={'index': 'start_station_id', 'start_station_id': 'start_stations_count'})\n",
    "df_start_pop = df_start.head(10)\n",
    "df_start_pop"
   ]
  },
  {
   "cell_type": "code",
   "execution_count": 259,
   "id": "f93ff325",
   "metadata": {},
   "outputs": [
    {
     "data": {
      "text/html": [
       "<div>\n",
       "<style scoped>\n",
       "    .dataframe tbody tr th:only-of-type {\n",
       "        vertical-align: middle;\n",
       "    }\n",
       "\n",
       "    .dataframe tbody tr th {\n",
       "        vertical-align: top;\n",
       "    }\n",
       "\n",
       "    .dataframe thead th {\n",
       "        text-align: right;\n",
       "    }\n",
       "</style>\n",
       "<table border=\"1\" class=\"dataframe\">\n",
       "  <thead>\n",
       "    <tr style=\"text-align: right;\">\n",
       "      <th></th>\n",
       "      <th>start_station_id</th>\n",
       "      <th>start_stations_count</th>\n",
       "    </tr>\n",
       "  </thead>\n",
       "  <tbody>\n",
       "    <tr>\n",
       "      <th>751</th>\n",
       "      <td>3394</td>\n",
       "      <td>92</td>\n",
       "    </tr>\n",
       "    <tr>\n",
       "      <th>752</th>\n",
       "      <td>3564</td>\n",
       "      <td>89</td>\n",
       "    </tr>\n",
       "    <tr>\n",
       "      <th>753</th>\n",
       "      <td>3559</td>\n",
       "      <td>89</td>\n",
       "    </tr>\n",
       "    <tr>\n",
       "      <th>754</th>\n",
       "      <td>3512</td>\n",
       "      <td>87</td>\n",
       "    </tr>\n",
       "    <tr>\n",
       "      <th>755</th>\n",
       "      <td>3557</td>\n",
       "      <td>85</td>\n",
       "    </tr>\n",
       "    <tr>\n",
       "      <th>756</th>\n",
       "      <td>3685</td>\n",
       "      <td>69</td>\n",
       "    </tr>\n",
       "    <tr>\n",
       "      <th>757</th>\n",
       "      <td>3683</td>\n",
       "      <td>59</td>\n",
       "    </tr>\n",
       "    <tr>\n",
       "      <th>758</th>\n",
       "      <td>3432</td>\n",
       "      <td>56</td>\n",
       "    </tr>\n",
       "    <tr>\n",
       "      <th>759</th>\n",
       "      <td>3333</td>\n",
       "      <td>54</td>\n",
       "    </tr>\n",
       "    <tr>\n",
       "      <th>760</th>\n",
       "      <td>3325</td>\n",
       "      <td>49</td>\n",
       "    </tr>\n",
       "    <tr>\n",
       "      <th>761</th>\n",
       "      <td>3468</td>\n",
       "      <td>36</td>\n",
       "    </tr>\n",
       "    <tr>\n",
       "      <th>762</th>\n",
       "      <td>3239</td>\n",
       "      <td>18</td>\n",
       "    </tr>\n",
       "    <tr>\n",
       "      <th>763</th>\n",
       "      <td>3650</td>\n",
       "      <td>10</td>\n",
       "    </tr>\n",
       "    <tr>\n",
       "      <th>764</th>\n",
       "      <td>3485</td>\n",
       "      <td>3</td>\n",
       "    </tr>\n",
       "    <tr>\n",
       "      <th>765</th>\n",
       "      <td>3240</td>\n",
       "      <td>2</td>\n",
       "    </tr>\n",
       "  </tbody>\n",
       "</table>\n",
       "</div>"
      ],
      "text/plain": [
       "     start_station_id  start_stations_count\n",
       "751              3394                    92\n",
       "752              3564                    89\n",
       "753              3559                    89\n",
       "754              3512                    87\n",
       "755              3557                    85\n",
       "756              3685                    69\n",
       "757              3683                    59\n",
       "758              3432                    56\n",
       "759              3333                    54\n",
       "760              3325                    49\n",
       "761              3468                    36\n",
       "762              3239                    18\n",
       "763              3650                    10\n",
       "764              3485                     3\n",
       "765              3240                     2"
      ]
     },
     "execution_count": 259,
     "metadata": {},
     "output_type": "execute_result"
    }
   ],
   "source": [
    "df_start_rare = df_start.tail(15)\n",
    "df_start_rare"
   ]
  },
  {
   "cell_type": "code",
   "execution_count": 260,
   "id": "6e32dede",
   "metadata": {},
   "outputs": [
    {
     "data": {
      "text/html": [
       "<div>\n",
       "<style scoped>\n",
       "    .dataframe tbody tr th:only-of-type {\n",
       "        vertical-align: middle;\n",
       "    }\n",
       "\n",
       "    .dataframe tbody tr th {\n",
       "        vertical-align: top;\n",
       "    }\n",
       "\n",
       "    .dataframe thead th {\n",
       "        text-align: right;\n",
       "    }\n",
       "</style>\n",
       "<table border=\"1\" class=\"dataframe\">\n",
       "  <thead>\n",
       "    <tr style=\"text-align: right;\">\n",
       "      <th></th>\n",
       "      <th>end_station_id</th>\n",
       "      <th>end_stations_count</th>\n",
       "    </tr>\n",
       "  </thead>\n",
       "  <tbody>\n",
       "    <tr>\n",
       "      <th>0</th>\n",
       "      <td>519</td>\n",
       "      <td>15524</td>\n",
       "    </tr>\n",
       "    <tr>\n",
       "      <th>1</th>\n",
       "      <td>435</td>\n",
       "      <td>11459</td>\n",
       "    </tr>\n",
       "    <tr>\n",
       "      <th>2</th>\n",
       "      <td>402</td>\n",
       "      <td>11060</td>\n",
       "    </tr>\n",
       "    <tr>\n",
       "      <th>3</th>\n",
       "      <td>492</td>\n",
       "      <td>10762</td>\n",
       "    </tr>\n",
       "    <tr>\n",
       "      <th>4</th>\n",
       "      <td>426</td>\n",
       "      <td>10695</td>\n",
       "    </tr>\n",
       "    <tr>\n",
       "      <th>5</th>\n",
       "      <td>497</td>\n",
       "      <td>9905</td>\n",
       "    </tr>\n",
       "    <tr>\n",
       "      <th>6</th>\n",
       "      <td>477</td>\n",
       "      <td>9426</td>\n",
       "    </tr>\n",
       "    <tr>\n",
       "      <th>7</th>\n",
       "      <td>462</td>\n",
       "      <td>9176</td>\n",
       "    </tr>\n",
       "    <tr>\n",
       "      <th>8</th>\n",
       "      <td>285</td>\n",
       "      <td>8896</td>\n",
       "    </tr>\n",
       "    <tr>\n",
       "      <th>9</th>\n",
       "      <td>379</td>\n",
       "      <td>8640</td>\n",
       "    </tr>\n",
       "  </tbody>\n",
       "</table>\n",
       "</div>"
      ],
      "text/plain": [
       "   end_station_id  end_stations_count\n",
       "0             519               15524\n",
       "1             435               11459\n",
       "2             402               11060\n",
       "3             492               10762\n",
       "4             426               10695\n",
       "5             497                9905\n",
       "6             477                9426\n",
       "7             462                9176\n",
       "8             285                8896\n",
       "9             379                8640"
      ]
     },
     "execution_count": 260,
     "metadata": {},
     "output_type": "execute_result"
    }
   ],
   "source": [
    "df_end = df_loc['end_station_id'].value_counts().sort_values(ascending=False).to_frame()\n",
    "df_end = df_end.reset_index()\n",
    "df_end = df_end.rename(columns={'index': 'end_station_id', 'end_station_id': 'end_stations_count'})\n",
    "df_end = df_end.head(10)\n",
    "df_end"
   ]
  },
  {
   "cell_type": "code",
   "execution_count": 261,
   "id": "49eae15e",
   "metadata": {},
   "outputs": [
    {
     "data": {
      "text/html": [
       "<div>\n",
       "<style scoped>\n",
       "    .dataframe tbody tr th:only-of-type {\n",
       "        vertical-align: middle;\n",
       "    }\n",
       "\n",
       "    .dataframe tbody tr th {\n",
       "        vertical-align: top;\n",
       "    }\n",
       "\n",
       "    .dataframe thead th {\n",
       "        text-align: right;\n",
       "    }\n",
       "</style>\n",
       "<table border=\"1\" class=\"dataframe\">\n",
       "  <thead>\n",
       "    <tr style=\"text-align: right;\">\n",
       "      <th></th>\n",
       "      <th>start_station_id</th>\n",
       "      <th>start_station_name</th>\n",
       "    </tr>\n",
       "  </thead>\n",
       "  <tbody>\n",
       "    <tr>\n",
       "      <th>0</th>\n",
       "      <td>312</td>\n",
       "      <td>Allen St &amp; Stanton St</td>\n",
       "    </tr>\n",
       "    <tr>\n",
       "      <th>1</th>\n",
       "      <td>401</td>\n",
       "      <td>Allen St &amp; Rivington St</td>\n",
       "    </tr>\n",
       "    <tr>\n",
       "      <th>2</th>\n",
       "      <td>483</td>\n",
       "      <td>E 12 St &amp; 3 Ave</td>\n",
       "    </tr>\n",
       "    <tr>\n",
       "      <th>3</th>\n",
       "      <td>3107</td>\n",
       "      <td>Bedford Ave &amp; Nassau Ave</td>\n",
       "    </tr>\n",
       "    <tr>\n",
       "      <th>4</th>\n",
       "      <td>3341</td>\n",
       "      <td>Central Park West &amp; W 102 St</td>\n",
       "    </tr>\n",
       "  </tbody>\n",
       "</table>\n",
       "</div>"
      ],
      "text/plain": [
       "   start_station_id            start_station_name\n",
       "0               312         Allen St & Stanton St\n",
       "1               401       Allen St & Rivington St\n",
       "2               483               E 12 St & 3 Ave\n",
       "3              3107      Bedford Ave & Nassau Ave\n",
       "4              3341  Central Park West & W 102 St"
      ]
     },
     "execution_count": 261,
     "metadata": {},
     "output_type": "execute_result"
    }
   ],
   "source": [
    "df_start_stations = df_loc.iloc[: , [0,1]].copy()\n",
    "df_start_stations.head()"
   ]
  },
  {
   "cell_type": "code",
   "execution_count": 262,
   "id": "1353e18e",
   "metadata": {},
   "outputs": [
    {
     "data": {
      "text/html": [
       "<div>\n",
       "<style scoped>\n",
       "    .dataframe tbody tr th:only-of-type {\n",
       "        vertical-align: middle;\n",
       "    }\n",
       "\n",
       "    .dataframe tbody tr th {\n",
       "        vertical-align: top;\n",
       "    }\n",
       "\n",
       "    .dataframe thead th {\n",
       "        text-align: right;\n",
       "    }\n",
       "</style>\n",
       "<table border=\"1\" class=\"dataframe\">\n",
       "  <thead>\n",
       "    <tr style=\"text-align: right;\">\n",
       "      <th></th>\n",
       "      <th>start_station_id</th>\n",
       "      <th>start_stations_count</th>\n",
       "      <th>start_station_name</th>\n",
       "    </tr>\n",
       "  </thead>\n",
       "  <tbody>\n",
       "    <tr>\n",
       "      <th>0</th>\n",
       "      <td>519</td>\n",
       "      <td>15504</td>\n",
       "      <td>Pershing Square North</td>\n",
       "    </tr>\n",
       "    <tr>\n",
       "      <th>1</th>\n",
       "      <td>435</td>\n",
       "      <td>11329</td>\n",
       "      <td>W 21 St &amp; 6 Ave</td>\n",
       "    </tr>\n",
       "    <tr>\n",
       "      <th>2</th>\n",
       "      <td>402</td>\n",
       "      <td>10339</td>\n",
       "      <td>Broadway &amp; E 22 St</td>\n",
       "    </tr>\n",
       "    <tr>\n",
       "      <th>3</th>\n",
       "      <td>492</td>\n",
       "      <td>10259</td>\n",
       "      <td>W 33 St &amp; 7 Ave</td>\n",
       "    </tr>\n",
       "    <tr>\n",
       "      <th>4</th>\n",
       "      <td>497</td>\n",
       "      <td>9867</td>\n",
       "      <td>E 17 St &amp; Broadway</td>\n",
       "    </tr>\n",
       "    <tr>\n",
       "      <th>5</th>\n",
       "      <td>426</td>\n",
       "      <td>9735</td>\n",
       "      <td>West St &amp; Chambers St</td>\n",
       "    </tr>\n",
       "    <tr>\n",
       "      <th>6</th>\n",
       "      <td>477</td>\n",
       "      <td>9471</td>\n",
       "      <td>W 41 St &amp; 8 Ave</td>\n",
       "    </tr>\n",
       "    <tr>\n",
       "      <th>7</th>\n",
       "      <td>462</td>\n",
       "      <td>9141</td>\n",
       "      <td>W 22 St &amp; 10 Ave</td>\n",
       "    </tr>\n",
       "    <tr>\n",
       "      <th>8</th>\n",
       "      <td>285</td>\n",
       "      <td>8740</td>\n",
       "      <td>Broadway &amp; E 14 St</td>\n",
       "    </tr>\n",
       "    <tr>\n",
       "      <th>9</th>\n",
       "      <td>379</td>\n",
       "      <td>8527</td>\n",
       "      <td>W 31 St &amp; 7 Ave</td>\n",
       "    </tr>\n",
       "  </tbody>\n",
       "</table>\n",
       "</div>"
      ],
      "text/plain": [
       "   start_station_id  start_stations_count     start_station_name\n",
       "0               519                 15504  Pershing Square North\n",
       "1               435                 11329        W 21 St & 6 Ave\n",
       "2               402                 10339     Broadway & E 22 St\n",
       "3               492                 10259        W 33 St & 7 Ave\n",
       "4               497                  9867     E 17 St & Broadway\n",
       "5               426                  9735  West St & Chambers St\n",
       "6               477                  9471        W 41 St & 8 Ave\n",
       "7               462                  9141       W 22 St & 10 Ave\n",
       "8               285                  8740     Broadway & E 14 St\n",
       "9               379                  8527        W 31 St & 7 Ave"
      ]
     },
     "execution_count": 262,
     "metadata": {},
     "output_type": "execute_result"
    }
   ],
   "source": [
    "df_start_pop_merged = pd.merge(df_start_pop, df_start_stations, on='start_station_id', how='left')\n",
    "df_start_pop_merged = df_start_pop_merged.drop_duplicates().reset_index(drop=True)\n",
    "df_start_pop_merged"
   ]
  },
  {
   "cell_type": "code",
   "execution_count": 263,
   "id": "b577d360",
   "metadata": {},
   "outputs": [],
   "source": [
    "df_start_rare_merged = pd.merge(df_start_rare, df_start_stations, on='start_station_id', how='left')\n",
    "df_start_rare_merged = df_start_rare_merged.drop_duplicates().reset_index(drop=True)"
   ]
  },
  {
   "cell_type": "code",
   "execution_count": 264,
   "id": "f75c25e5",
   "metadata": {},
   "outputs": [
    {
     "name": "stdout",
     "output_type": "stream",
     "text": [
      "      start_station_name        lat       long\n",
      "0  Pershing Square North  40.751967 -73.977787\n",
      "1        W 21 St & 6 Ave  40.753554 -73.985042\n",
      "2     Broadway & E 22 St  40.738005 -73.983250\n",
      "3        W 33 St & 7 Ave  40.750992 -73.990623\n",
      "4     E 17 St & Broadway  40.734230 -73.983490\n",
      "5  West St & Chambers St  40.717370 -74.012542\n",
      "6        W 41 St & 8 Ave  40.759164 -73.988391\n",
      "7       W 22 St & 10 Ave  40.742143 -74.008204\n",
      "8     Broadway & E 14 St  40.727433 -73.973291\n",
      "9        W 31 St & 7 Ave  40.750992 -73.990623\n",
      "                               start_station_name        lat       long\n",
      "0                            Columbia St & W 9 St  40.734134 -73.999188\n",
      "1                                  21 St & 36 Ave  40.750056 -73.984184\n",
      "2                                  21 St & 38 Ave  40.750331 -73.981056\n",
      "3                                   27 Ave & 4 St  40.772729 -73.927120\n",
      "4                                   40 Ave & 9 St  40.753079 -73.937170\n",
      "5  Prospect Park - 5 Year Anniversary Celebration  40.661774 -73.971089\n",
      "6                         Smart Cities Conference  40.710101 -73.986175\n",
      "7                       Columbia St & Lorraine St  40.674454 -74.007355\n",
      "8                                 E 95 St & 3 Ave  40.784908 -73.950755\n",
      "9                                        Bressler  40.714269 -74.005973\n"
     ]
    }
   ],
   "source": [
    "df_coord_pop = pd.DataFrame([('Pershing Square North', 40.7519669, -73.9777869 ),\n",
    "                        ('W 21 St & 6 Ave', 40.753554, -73.985042),\n",
    "                        ('Broadway & E 22 St', 40.738005, -73.98325),\n",
    "                        ('W 33 St & 7 Ave', 40.750992, -73.990623),\n",
    "                        ('E 17 St & Broadway', 40.734230041503906, -73.98348999023438), \n",
    "                        ('West St & Chambers St', 40.7173697, -74.0125425),\n",
    "                        ('W 41 St & 8 Ave', 40.759164, -73.988391),\n",
    "                        ('W 22 St & 10 Ave', 40.742143, -74.008204),                         \n",
    "                        ('Broadway & E 14 St', 40.727433, -73.973291),\n",
    "                        ('W 31 St & 7 Ave', 40.750992, -73.990623)],\n",
    "                       columns=('start_station_name', 'lat', 'long'))\n",
    "\n",
    "df_coord_rare = pd.DataFrame([('Columbia St & W 9 St', 40.734134,-73.999188),\n",
    "                        ('21 St & 36 Ave', 40.750056,-73.984184),\n",
    "                        ('21 St & 38 Ave', 40.750331,-73.981056),\n",
    "                        ('27 Ave & 4 St', 40.7727287,-73.9271196),\n",
    "                        ('40 Ave & 9 St', 40.753079,-73.93717),\n",
    "                        ('Prospect Park - 5 Year Anniversary Celebration', 40.6617743, -73.971089),\n",
    "                        ('Smart Cities Conference', 40.7101013, -73.9861753),\n",
    "                        ('Columbia St & Lorraine St', 40.674454, -74.007355 ),\n",
    "                        ('E 95 St & 3 Ave', 40.7849079, -73.9507545), \n",
    "                        ('Bressler', 40.714269, -74.005973)],\n",
    "                       columns=('start_station_name', 'lat', 'long'))\n",
    "\n",
    "print(df_coord_pop)\n",
    "print(df_coord_rare)"
   ]
  },
  {
   "cell_type": "code",
   "execution_count": 265,
   "id": "70e578b5",
   "metadata": {},
   "outputs": [
    {
     "data": {
      "text/html": [
       "<div>\n",
       "<style scoped>\n",
       "    .dataframe tbody tr th:only-of-type {\n",
       "        vertical-align: middle;\n",
       "    }\n",
       "\n",
       "    .dataframe tbody tr th {\n",
       "        vertical-align: top;\n",
       "    }\n",
       "\n",
       "    .dataframe thead th {\n",
       "        text-align: right;\n",
       "    }\n",
       "</style>\n",
       "<table border=\"1\" class=\"dataframe\">\n",
       "  <thead>\n",
       "    <tr style=\"text-align: right;\">\n",
       "      <th></th>\n",
       "      <th>start_station_id</th>\n",
       "      <th>start_stations_count</th>\n",
       "      <th>start_station_name</th>\n",
       "      <th>lat</th>\n",
       "      <th>long</th>\n",
       "    </tr>\n",
       "  </thead>\n",
       "  <tbody>\n",
       "    <tr>\n",
       "      <th>0</th>\n",
       "      <td>519</td>\n",
       "      <td>15504</td>\n",
       "      <td>Pershing Square North</td>\n",
       "      <td>40.751967</td>\n",
       "      <td>-73.977787</td>\n",
       "    </tr>\n",
       "    <tr>\n",
       "      <th>1</th>\n",
       "      <td>435</td>\n",
       "      <td>11329</td>\n",
       "      <td>W 21 St &amp; 6 Ave</td>\n",
       "      <td>40.753554</td>\n",
       "      <td>-73.985042</td>\n",
       "    </tr>\n",
       "    <tr>\n",
       "      <th>2</th>\n",
       "      <td>402</td>\n",
       "      <td>10339</td>\n",
       "      <td>Broadway &amp; E 22 St</td>\n",
       "      <td>40.738005</td>\n",
       "      <td>-73.983250</td>\n",
       "    </tr>\n",
       "    <tr>\n",
       "      <th>3</th>\n",
       "      <td>492</td>\n",
       "      <td>10259</td>\n",
       "      <td>W 33 St &amp; 7 Ave</td>\n",
       "      <td>40.750992</td>\n",
       "      <td>-73.990623</td>\n",
       "    </tr>\n",
       "    <tr>\n",
       "      <th>4</th>\n",
       "      <td>497</td>\n",
       "      <td>9867</td>\n",
       "      <td>E 17 St &amp; Broadway</td>\n",
       "      <td>40.734230</td>\n",
       "      <td>-73.983490</td>\n",
       "    </tr>\n",
       "    <tr>\n",
       "      <th>5</th>\n",
       "      <td>426</td>\n",
       "      <td>9735</td>\n",
       "      <td>West St &amp; Chambers St</td>\n",
       "      <td>40.717370</td>\n",
       "      <td>-74.012542</td>\n",
       "    </tr>\n",
       "    <tr>\n",
       "      <th>6</th>\n",
       "      <td>477</td>\n",
       "      <td>9471</td>\n",
       "      <td>W 41 St &amp; 8 Ave</td>\n",
       "      <td>40.759164</td>\n",
       "      <td>-73.988391</td>\n",
       "    </tr>\n",
       "    <tr>\n",
       "      <th>7</th>\n",
       "      <td>462</td>\n",
       "      <td>9141</td>\n",
       "      <td>W 22 St &amp; 10 Ave</td>\n",
       "      <td>40.742143</td>\n",
       "      <td>-74.008204</td>\n",
       "    </tr>\n",
       "    <tr>\n",
       "      <th>8</th>\n",
       "      <td>285</td>\n",
       "      <td>8740</td>\n",
       "      <td>Broadway &amp; E 14 St</td>\n",
       "      <td>40.727433</td>\n",
       "      <td>-73.973291</td>\n",
       "    </tr>\n",
       "    <tr>\n",
       "      <th>9</th>\n",
       "      <td>379</td>\n",
       "      <td>8527</td>\n",
       "      <td>W 31 St &amp; 7 Ave</td>\n",
       "      <td>40.750992</td>\n",
       "      <td>-73.990623</td>\n",
       "    </tr>\n",
       "  </tbody>\n",
       "</table>\n",
       "</div>"
      ],
      "text/plain": [
       "   start_station_id  start_stations_count     start_station_name        lat  \\\n",
       "0               519                 15504  Pershing Square North  40.751967   \n",
       "1               435                 11329        W 21 St & 6 Ave  40.753554   \n",
       "2               402                 10339     Broadway & E 22 St  40.738005   \n",
       "3               492                 10259        W 33 St & 7 Ave  40.750992   \n",
       "4               497                  9867     E 17 St & Broadway  40.734230   \n",
       "5               426                  9735  West St & Chambers St  40.717370   \n",
       "6               477                  9471        W 41 St & 8 Ave  40.759164   \n",
       "7               462                  9141       W 22 St & 10 Ave  40.742143   \n",
       "8               285                  8740     Broadway & E 14 St  40.727433   \n",
       "9               379                  8527        W 31 St & 7 Ave  40.750992   \n",
       "\n",
       "        long  \n",
       "0 -73.977787  \n",
       "1 -73.985042  \n",
       "2 -73.983250  \n",
       "3 -73.990623  \n",
       "4 -73.983490  \n",
       "5 -74.012542  \n",
       "6 -73.988391  \n",
       "7 -74.008204  \n",
       "8 -73.973291  \n",
       "9 -73.990623  "
      ]
     },
     "execution_count": 265,
     "metadata": {},
     "output_type": "execute_result"
    }
   ],
   "source": [
    "df_start_pop_coord_merged = pd.merge(df_start_pop_merged, df_coord_pop, on='start_station_name', how='left')\n",
    "df_start_pop_coord_merged"
   ]
  },
  {
   "cell_type": "code",
   "execution_count": 266,
   "id": "4d9f119e",
   "metadata": {},
   "outputs": [],
   "source": [
    "df_start_rare_coord_merged = pd.merge(df_start_rare_merged, df_coord_rare, on='start_station_name', how='left')\n",
    "df_start_rare_coord_merged = df_start_rare_coord_merged.dropna()"
   ]
  },
  {
   "cell_type": "code",
   "execution_count": 267,
   "id": "246991cb",
   "metadata": {},
   "outputs": [],
   "source": [
    "import folium\n",
    "from folium import plugins\n",
    "import ipywidgets\n",
    "import branca\n",
    "import branca.colormap as cm"
   ]
  },
  {
   "cell_type": "code",
   "execution_count": 268,
   "id": "68b64c5a",
   "metadata": {
    "scrolled": true
   },
   "outputs": [
    {
     "data": {
      "text/html": [
       "<div style=\"width:100%;\"><div style=\"position:relative;width:100%;height:0;padding-bottom:60%;\"><span style=\"color:#565656\">Make this Notebook Trusted to load map: File -> Trust Notebook</span><iframe src=\"about:blank\" style=\"position:absolute;width:100%;height:100%;left:0;top:0;border:none !important;\" data-html=%3C%21DOCTYPE%20html%3E%0A%3Chead%3E%20%20%20%20%0A%20%20%20%20%3Cmeta%20http-equiv%3D%22content-type%22%20content%3D%22text/html%3B%20charset%3DUTF-8%22%20/%3E%0A%20%20%20%20%0A%20%20%20%20%20%20%20%20%3Cscript%3E%0A%20%20%20%20%20%20%20%20%20%20%20%20L_NO_TOUCH%20%3D%20false%3B%0A%20%20%20%20%20%20%20%20%20%20%20%20L_DISABLE_3D%20%3D%20false%3B%0A%20%20%20%20%20%20%20%20%3C/script%3E%0A%20%20%20%20%0A%20%20%20%20%3Cstyle%3Ehtml%2C%20body%20%7Bwidth%3A%20100%25%3Bheight%3A%20100%25%3Bmargin%3A%200%3Bpadding%3A%200%3B%7D%3C/style%3E%0A%20%20%20%20%3Cstyle%3E%23map%20%7Bposition%3Aabsolute%3Btop%3A0%3Bbottom%3A0%3Bright%3A0%3Bleft%3A0%3B%7D%3C/style%3E%0A%20%20%20%20%3Cscript%20src%3D%22https%3A//cdn.jsdelivr.net/npm/leaflet%401.6.0/dist/leaflet.js%22%3E%3C/script%3E%0A%20%20%20%20%3Cscript%20src%3D%22https%3A//code.jquery.com/jquery-1.12.4.min.js%22%3E%3C/script%3E%0A%20%20%20%20%3Cscript%20src%3D%22https%3A//maxcdn.bootstrapcdn.com/bootstrap/3.2.0/js/bootstrap.min.js%22%3E%3C/script%3E%0A%20%20%20%20%3Cscript%20src%3D%22https%3A//cdnjs.cloudflare.com/ajax/libs/Leaflet.awesome-markers/2.0.2/leaflet.awesome-markers.js%22%3E%3C/script%3E%0A%20%20%20%20%3Clink%20rel%3D%22stylesheet%22%20href%3D%22https%3A//cdn.jsdelivr.net/npm/leaflet%401.6.0/dist/leaflet.css%22/%3E%0A%20%20%20%20%3Clink%20rel%3D%22stylesheet%22%20href%3D%22https%3A//maxcdn.bootstrapcdn.com/bootstrap/3.2.0/css/bootstrap.min.css%22/%3E%0A%20%20%20%20%3Clink%20rel%3D%22stylesheet%22%20href%3D%22https%3A//maxcdn.bootstrapcdn.com/bootstrap/3.2.0/css/bootstrap-theme.min.css%22/%3E%0A%20%20%20%20%3Clink%20rel%3D%22stylesheet%22%20href%3D%22https%3A//maxcdn.bootstrapcdn.com/font-awesome/4.6.3/css/font-awesome.min.css%22/%3E%0A%20%20%20%20%3Clink%20rel%3D%22stylesheet%22%20href%3D%22https%3A//cdnjs.cloudflare.com/ajax/libs/Leaflet.awesome-markers/2.0.2/leaflet.awesome-markers.css%22/%3E%0A%20%20%20%20%3Clink%20rel%3D%22stylesheet%22%20href%3D%22https%3A//cdn.jsdelivr.net/gh/python-visualization/folium/folium/templates/leaflet.awesome.rotate.min.css%22/%3E%0A%20%20%20%20%0A%20%20%20%20%20%20%20%20%20%20%20%20%3Cmeta%20name%3D%22viewport%22%20content%3D%22width%3Ddevice-width%2C%0A%20%20%20%20%20%20%20%20%20%20%20%20%20%20%20%20initial-scale%3D1.0%2C%20maximum-scale%3D1.0%2C%20user-scalable%3Dno%22%20/%3E%0A%20%20%20%20%20%20%20%20%20%20%20%20%3Cstyle%3E%0A%20%20%20%20%20%20%20%20%20%20%20%20%20%20%20%20%23map_97e30b8a2e154d5d967becc5487a4299%20%7B%0A%20%20%20%20%20%20%20%20%20%20%20%20%20%20%20%20%20%20%20%20position%3A%20relative%3B%0A%20%20%20%20%20%20%20%20%20%20%20%20%20%20%20%20%20%20%20%20width%3A%20100.0%25%3B%0A%20%20%20%20%20%20%20%20%20%20%20%20%20%20%20%20%20%20%20%20height%3A%20100.0%25%3B%0A%20%20%20%20%20%20%20%20%20%20%20%20%20%20%20%20%20%20%20%20left%3A%200.0%25%3B%0A%20%20%20%20%20%20%20%20%20%20%20%20%20%20%20%20%20%20%20%20top%3A%200.0%25%3B%0A%20%20%20%20%20%20%20%20%20%20%20%20%20%20%20%20%7D%0A%20%20%20%20%20%20%20%20%20%20%20%20%3C/style%3E%0A%20%20%20%20%20%20%20%20%0A%3C/head%3E%0A%3Cbody%3E%20%20%20%20%0A%20%20%20%20%0A%20%20%20%20%20%20%20%20%20%20%20%20%3Cdiv%20class%3D%22folium-map%22%20id%3D%22map_97e30b8a2e154d5d967becc5487a4299%22%20%3E%3C/div%3E%0A%20%20%20%20%20%20%20%20%0A%3C/body%3E%0A%3Cscript%3E%20%20%20%20%0A%20%20%20%20%0A%20%20%20%20%20%20%20%20%20%20%20%20var%20map_97e30b8a2e154d5d967becc5487a4299%20%3D%20L.map%28%0A%20%20%20%20%20%20%20%20%20%20%20%20%20%20%20%20%22map_97e30b8a2e154d5d967becc5487a4299%22%2C%0A%20%20%20%20%20%20%20%20%20%20%20%20%20%20%20%20%7B%0A%20%20%20%20%20%20%20%20%20%20%20%20%20%20%20%20%20%20%20%20center%3A%20%5B40.7127281%2C%20-74.0060152%5D%2C%0A%20%20%20%20%20%20%20%20%20%20%20%20%20%20%20%20%20%20%20%20crs%3A%20L.CRS.EPSG3857%2C%0A%20%20%20%20%20%20%20%20%20%20%20%20%20%20%20%20%20%20%20%20zoom%3A%2012%2C%0A%20%20%20%20%20%20%20%20%20%20%20%20%20%20%20%20%20%20%20%20zoomControl%3A%20true%2C%0A%20%20%20%20%20%20%20%20%20%20%20%20%20%20%20%20%20%20%20%20preferCanvas%3A%20false%2C%0A%20%20%20%20%20%20%20%20%20%20%20%20%20%20%20%20%7D%0A%20%20%20%20%20%20%20%20%20%20%20%20%29%3B%0A%0A%20%20%20%20%20%20%20%20%20%20%20%20%0A%0A%20%20%20%20%20%20%20%20%0A%20%20%20%20%0A%20%20%20%20%20%20%20%20%20%20%20%20var%20tile_layer_af54d99aad364933b38c4100d7b2a1c6%20%3D%20L.tileLayer%28%0A%20%20%20%20%20%20%20%20%20%20%20%20%20%20%20%20%22https%3A//%7Bs%7D.tile.openstreetmap.org/%7Bz%7D/%7Bx%7D/%7By%7D.png%22%2C%0A%20%20%20%20%20%20%20%20%20%20%20%20%20%20%20%20%7B%22attribution%22%3A%20%22Data%20by%20%5Cu0026copy%3B%20%5Cu003ca%20href%3D%5C%22http%3A//openstreetmap.org%5C%22%5Cu003eOpenStreetMap%5Cu003c/a%5Cu003e%2C%20under%20%5Cu003ca%20href%3D%5C%22http%3A//www.openstreetmap.org/copyright%5C%22%5Cu003eODbL%5Cu003c/a%5Cu003e.%22%2C%20%22detectRetina%22%3A%20false%2C%20%22maxNativeZoom%22%3A%2018%2C%20%22maxZoom%22%3A%2018%2C%20%22minZoom%22%3A%200%2C%20%22noWrap%22%3A%20false%2C%20%22opacity%22%3A%201%2C%20%22subdomains%22%3A%20%22abc%22%2C%20%22tms%22%3A%20false%7D%0A%20%20%20%20%20%20%20%20%20%20%20%20%29.addTo%28map_97e30b8a2e154d5d967becc5487a4299%29%3B%0A%20%20%20%20%20%20%20%20%0A%20%20%20%20%0A%20%20%20%20%20%20%20%20%20%20%20%20var%20circle_3205abd9edf345029c7ad7ded6e282a5%20%3D%20L.circle%28%0A%20%20%20%20%20%20%20%20%20%20%20%20%20%20%20%20%5B40.7519669%2C%20-73.9777869%5D%2C%0A%20%20%20%20%20%20%20%20%20%20%20%20%20%20%20%20%7B%22bubblingMouseEvents%22%3A%20true%2C%20%22color%22%3A%20%22blue%22%2C%20%22dashArray%22%3A%20null%2C%20%22dashOffset%22%3A%20null%2C%20%22fill%22%3A%20true%2C%20%22fillColor%22%3A%20%22blue%22%2C%20%22fillOpacity%22%3A%200.2%2C%20%22fillRule%22%3A%20%22evenodd%22%2C%20%22lineCap%22%3A%20%22round%22%2C%20%22lineJoin%22%3A%20%22round%22%2C%20%22opacity%22%3A%201.0%2C%20%22radius%22%3A%20200%2C%20%22stroke%22%3A%20true%2C%20%22weight%22%3A%203%7D%0A%20%20%20%20%20%20%20%20%20%20%20%20%29.addTo%28map_97e30b8a2e154d5d967becc5487a4299%29%3B%0A%20%20%20%20%20%20%20%20%0A%20%20%20%20%0A%20%20%20%20%20%20%20%20var%20popup_ac6a8eae05aa40fd8d6ab9c98e6aa057%20%3D%20L.popup%28%7B%22maxWidth%22%3A%20%22100%25%22%7D%29%3B%0A%0A%20%20%20%20%20%20%20%20%0A%20%20%20%20%20%20%20%20%20%20%20%20var%20html_872d9cc859e848c7b2d85042c2fdba47%20%3D%20%24%28%60%3Cdiv%20id%3D%22html_872d9cc859e848c7b2d85042c2fdba47%22%20style%3D%22width%3A%20100.0%25%3B%20height%3A%20100.0%25%3B%22%3EPershing%20Square%20North%3C/div%3E%60%29%5B0%5D%3B%0A%20%20%20%20%20%20%20%20%20%20%20%20popup_ac6a8eae05aa40fd8d6ab9c98e6aa057.setContent%28html_872d9cc859e848c7b2d85042c2fdba47%29%3B%0A%20%20%20%20%20%20%20%20%0A%0A%20%20%20%20%20%20%20%20circle_3205abd9edf345029c7ad7ded6e282a5.bindPopup%28popup_ac6a8eae05aa40fd8d6ab9c98e6aa057%29%0A%20%20%20%20%20%20%20%20%3B%0A%0A%20%20%20%20%20%20%20%20%0A%20%20%20%20%0A%20%20%20%20%0A%20%20%20%20%20%20%20%20%20%20%20%20var%20circle_a928440101db43d8967cab3f03fc75c9%20%3D%20L.circle%28%0A%20%20%20%20%20%20%20%20%20%20%20%20%20%20%20%20%5B40.753554%2C%20-73.985042%5D%2C%0A%20%20%20%20%20%20%20%20%20%20%20%20%20%20%20%20%7B%22bubblingMouseEvents%22%3A%20true%2C%20%22color%22%3A%20%22blue%22%2C%20%22dashArray%22%3A%20null%2C%20%22dashOffset%22%3A%20null%2C%20%22fill%22%3A%20true%2C%20%22fillColor%22%3A%20%22blue%22%2C%20%22fillOpacity%22%3A%200.2%2C%20%22fillRule%22%3A%20%22evenodd%22%2C%20%22lineCap%22%3A%20%22round%22%2C%20%22lineJoin%22%3A%20%22round%22%2C%20%22opacity%22%3A%201.0%2C%20%22radius%22%3A%20200%2C%20%22stroke%22%3A%20true%2C%20%22weight%22%3A%203%7D%0A%20%20%20%20%20%20%20%20%20%20%20%20%29.addTo%28map_97e30b8a2e154d5d967becc5487a4299%29%3B%0A%20%20%20%20%20%20%20%20%0A%20%20%20%20%0A%20%20%20%20%20%20%20%20var%20popup_646ec70be51b42c89b9e0f0b60069ad0%20%3D%20L.popup%28%7B%22maxWidth%22%3A%20%22100%25%22%7D%29%3B%0A%0A%20%20%20%20%20%20%20%20%0A%20%20%20%20%20%20%20%20%20%20%20%20var%20html_5d2bc12acdb54992b44e77a99935cff6%20%3D%20%24%28%60%3Cdiv%20id%3D%22html_5d2bc12acdb54992b44e77a99935cff6%22%20style%3D%22width%3A%20100.0%25%3B%20height%3A%20100.0%25%3B%22%3EW%2021%20St%20%26%206%20Ave%3C/div%3E%60%29%5B0%5D%3B%0A%20%20%20%20%20%20%20%20%20%20%20%20popup_646ec70be51b42c89b9e0f0b60069ad0.setContent%28html_5d2bc12acdb54992b44e77a99935cff6%29%3B%0A%20%20%20%20%20%20%20%20%0A%0A%20%20%20%20%20%20%20%20circle_a928440101db43d8967cab3f03fc75c9.bindPopup%28popup_646ec70be51b42c89b9e0f0b60069ad0%29%0A%20%20%20%20%20%20%20%20%3B%0A%0A%20%20%20%20%20%20%20%20%0A%20%20%20%20%0A%20%20%20%20%0A%20%20%20%20%20%20%20%20%20%20%20%20var%20circle_5d8125a600d84bc4b00cd327499f4bdc%20%3D%20L.circle%28%0A%20%20%20%20%20%20%20%20%20%20%20%20%20%20%20%20%5B40.738005%2C%20-73.98325%5D%2C%0A%20%20%20%20%20%20%20%20%20%20%20%20%20%20%20%20%7B%22bubblingMouseEvents%22%3A%20true%2C%20%22color%22%3A%20%22blue%22%2C%20%22dashArray%22%3A%20null%2C%20%22dashOffset%22%3A%20null%2C%20%22fill%22%3A%20true%2C%20%22fillColor%22%3A%20%22blue%22%2C%20%22fillOpacity%22%3A%200.2%2C%20%22fillRule%22%3A%20%22evenodd%22%2C%20%22lineCap%22%3A%20%22round%22%2C%20%22lineJoin%22%3A%20%22round%22%2C%20%22opacity%22%3A%201.0%2C%20%22radius%22%3A%20200%2C%20%22stroke%22%3A%20true%2C%20%22weight%22%3A%203%7D%0A%20%20%20%20%20%20%20%20%20%20%20%20%29.addTo%28map_97e30b8a2e154d5d967becc5487a4299%29%3B%0A%20%20%20%20%20%20%20%20%0A%20%20%20%20%0A%20%20%20%20%20%20%20%20var%20popup_95fa7bedf4544092ace70470b19036d3%20%3D%20L.popup%28%7B%22maxWidth%22%3A%20%22100%25%22%7D%29%3B%0A%0A%20%20%20%20%20%20%20%20%0A%20%20%20%20%20%20%20%20%20%20%20%20var%20html_cfb96cf59ce34e938191c6b25c86cc55%20%3D%20%24%28%60%3Cdiv%20id%3D%22html_cfb96cf59ce34e938191c6b25c86cc55%22%20style%3D%22width%3A%20100.0%25%3B%20height%3A%20100.0%25%3B%22%3EBroadway%20%26%20E%2022%20St%3C/div%3E%60%29%5B0%5D%3B%0A%20%20%20%20%20%20%20%20%20%20%20%20popup_95fa7bedf4544092ace70470b19036d3.setContent%28html_cfb96cf59ce34e938191c6b25c86cc55%29%3B%0A%20%20%20%20%20%20%20%20%0A%0A%20%20%20%20%20%20%20%20circle_5d8125a600d84bc4b00cd327499f4bdc.bindPopup%28popup_95fa7bedf4544092ace70470b19036d3%29%0A%20%20%20%20%20%20%20%20%3B%0A%0A%20%20%20%20%20%20%20%20%0A%20%20%20%20%0A%20%20%20%20%0A%20%20%20%20%20%20%20%20%20%20%20%20var%20circle_80aa3c97d11f46dcac0ab2993bbc73da%20%3D%20L.circle%28%0A%20%20%20%20%20%20%20%20%20%20%20%20%20%20%20%20%5B40.750992%2C%20-73.990623%5D%2C%0A%20%20%20%20%20%20%20%20%20%20%20%20%20%20%20%20%7B%22bubblingMouseEvents%22%3A%20true%2C%20%22color%22%3A%20%22blue%22%2C%20%22dashArray%22%3A%20null%2C%20%22dashOffset%22%3A%20null%2C%20%22fill%22%3A%20true%2C%20%22fillColor%22%3A%20%22blue%22%2C%20%22fillOpacity%22%3A%200.2%2C%20%22fillRule%22%3A%20%22evenodd%22%2C%20%22lineCap%22%3A%20%22round%22%2C%20%22lineJoin%22%3A%20%22round%22%2C%20%22opacity%22%3A%201.0%2C%20%22radius%22%3A%20200%2C%20%22stroke%22%3A%20true%2C%20%22weight%22%3A%203%7D%0A%20%20%20%20%20%20%20%20%20%20%20%20%29.addTo%28map_97e30b8a2e154d5d967becc5487a4299%29%3B%0A%20%20%20%20%20%20%20%20%0A%20%20%20%20%0A%20%20%20%20%20%20%20%20var%20popup_a824081f0c264736a113133884edf5ac%20%3D%20L.popup%28%7B%22maxWidth%22%3A%20%22100%25%22%7D%29%3B%0A%0A%20%20%20%20%20%20%20%20%0A%20%20%20%20%20%20%20%20%20%20%20%20var%20html_645572074f3149889f1253dea6384ec3%20%3D%20%24%28%60%3Cdiv%20id%3D%22html_645572074f3149889f1253dea6384ec3%22%20style%3D%22width%3A%20100.0%25%3B%20height%3A%20100.0%25%3B%22%3EW%2033%20St%20%26%207%20Ave%3C/div%3E%60%29%5B0%5D%3B%0A%20%20%20%20%20%20%20%20%20%20%20%20popup_a824081f0c264736a113133884edf5ac.setContent%28html_645572074f3149889f1253dea6384ec3%29%3B%0A%20%20%20%20%20%20%20%20%0A%0A%20%20%20%20%20%20%20%20circle_80aa3c97d11f46dcac0ab2993bbc73da.bindPopup%28popup_a824081f0c264736a113133884edf5ac%29%0A%20%20%20%20%20%20%20%20%3B%0A%0A%20%20%20%20%20%20%20%20%0A%20%20%20%20%0A%20%20%20%20%0A%20%20%20%20%20%20%20%20%20%20%20%20var%20circle_3ac27063c269415da59e28b29f3fb8be%20%3D%20L.circle%28%0A%20%20%20%20%20%20%20%20%20%20%20%20%20%20%20%20%5B40.734230041503906%2C%20-73.98348999023438%5D%2C%0A%20%20%20%20%20%20%20%20%20%20%20%20%20%20%20%20%7B%22bubblingMouseEvents%22%3A%20true%2C%20%22color%22%3A%20%22blue%22%2C%20%22dashArray%22%3A%20null%2C%20%22dashOffset%22%3A%20null%2C%20%22fill%22%3A%20true%2C%20%22fillColor%22%3A%20%22blue%22%2C%20%22fillOpacity%22%3A%200.2%2C%20%22fillRule%22%3A%20%22evenodd%22%2C%20%22lineCap%22%3A%20%22round%22%2C%20%22lineJoin%22%3A%20%22round%22%2C%20%22opacity%22%3A%201.0%2C%20%22radius%22%3A%20200%2C%20%22stroke%22%3A%20true%2C%20%22weight%22%3A%203%7D%0A%20%20%20%20%20%20%20%20%20%20%20%20%29.addTo%28map_97e30b8a2e154d5d967becc5487a4299%29%3B%0A%20%20%20%20%20%20%20%20%0A%20%20%20%20%0A%20%20%20%20%20%20%20%20var%20popup_decbbac29e164cf49aba635ae565d141%20%3D%20L.popup%28%7B%22maxWidth%22%3A%20%22100%25%22%7D%29%3B%0A%0A%20%20%20%20%20%20%20%20%0A%20%20%20%20%20%20%20%20%20%20%20%20var%20html_f6947adee9ce4a73be3726a7616f1012%20%3D%20%24%28%60%3Cdiv%20id%3D%22html_f6947adee9ce4a73be3726a7616f1012%22%20style%3D%22width%3A%20100.0%25%3B%20height%3A%20100.0%25%3B%22%3EE%2017%20St%20%26%20Broadway%3C/div%3E%60%29%5B0%5D%3B%0A%20%20%20%20%20%20%20%20%20%20%20%20popup_decbbac29e164cf49aba635ae565d141.setContent%28html_f6947adee9ce4a73be3726a7616f1012%29%3B%0A%20%20%20%20%20%20%20%20%0A%0A%20%20%20%20%20%20%20%20circle_3ac27063c269415da59e28b29f3fb8be.bindPopup%28popup_decbbac29e164cf49aba635ae565d141%29%0A%20%20%20%20%20%20%20%20%3B%0A%0A%20%20%20%20%20%20%20%20%0A%20%20%20%20%0A%20%20%20%20%0A%20%20%20%20%20%20%20%20%20%20%20%20var%20circle_8a12ab5456284e5aaaa123de5bfa6425%20%3D%20L.circle%28%0A%20%20%20%20%20%20%20%20%20%20%20%20%20%20%20%20%5B40.7173697%2C%20-74.0125425%5D%2C%0A%20%20%20%20%20%20%20%20%20%20%20%20%20%20%20%20%7B%22bubblingMouseEvents%22%3A%20true%2C%20%22color%22%3A%20%22blue%22%2C%20%22dashArray%22%3A%20null%2C%20%22dashOffset%22%3A%20null%2C%20%22fill%22%3A%20true%2C%20%22fillColor%22%3A%20%22blue%22%2C%20%22fillOpacity%22%3A%200.2%2C%20%22fillRule%22%3A%20%22evenodd%22%2C%20%22lineCap%22%3A%20%22round%22%2C%20%22lineJoin%22%3A%20%22round%22%2C%20%22opacity%22%3A%201.0%2C%20%22radius%22%3A%20200%2C%20%22stroke%22%3A%20true%2C%20%22weight%22%3A%203%7D%0A%20%20%20%20%20%20%20%20%20%20%20%20%29.addTo%28map_97e30b8a2e154d5d967becc5487a4299%29%3B%0A%20%20%20%20%20%20%20%20%0A%20%20%20%20%0A%20%20%20%20%20%20%20%20var%20popup_5b4ff0f6d3cb4875a89341ec2c2f57d8%20%3D%20L.popup%28%7B%22maxWidth%22%3A%20%22100%25%22%7D%29%3B%0A%0A%20%20%20%20%20%20%20%20%0A%20%20%20%20%20%20%20%20%20%20%20%20var%20html_2307121879ac4c55afd26841ab90919e%20%3D%20%24%28%60%3Cdiv%20id%3D%22html_2307121879ac4c55afd26841ab90919e%22%20style%3D%22width%3A%20100.0%25%3B%20height%3A%20100.0%25%3B%22%3EWest%20St%20%26%20Chambers%20St%3C/div%3E%60%29%5B0%5D%3B%0A%20%20%20%20%20%20%20%20%20%20%20%20popup_5b4ff0f6d3cb4875a89341ec2c2f57d8.setContent%28html_2307121879ac4c55afd26841ab90919e%29%3B%0A%20%20%20%20%20%20%20%20%0A%0A%20%20%20%20%20%20%20%20circle_8a12ab5456284e5aaaa123de5bfa6425.bindPopup%28popup_5b4ff0f6d3cb4875a89341ec2c2f57d8%29%0A%20%20%20%20%20%20%20%20%3B%0A%0A%20%20%20%20%20%20%20%20%0A%20%20%20%20%0A%20%20%20%20%0A%20%20%20%20%20%20%20%20%20%20%20%20var%20circle_85812935a4094b8fade9237207d12a98%20%3D%20L.circle%28%0A%20%20%20%20%20%20%20%20%20%20%20%20%20%20%20%20%5B40.759164%2C%20-73.988391%5D%2C%0A%20%20%20%20%20%20%20%20%20%20%20%20%20%20%20%20%7B%22bubblingMouseEvents%22%3A%20true%2C%20%22color%22%3A%20%22blue%22%2C%20%22dashArray%22%3A%20null%2C%20%22dashOffset%22%3A%20null%2C%20%22fill%22%3A%20true%2C%20%22fillColor%22%3A%20%22blue%22%2C%20%22fillOpacity%22%3A%200.2%2C%20%22fillRule%22%3A%20%22evenodd%22%2C%20%22lineCap%22%3A%20%22round%22%2C%20%22lineJoin%22%3A%20%22round%22%2C%20%22opacity%22%3A%201.0%2C%20%22radius%22%3A%20200%2C%20%22stroke%22%3A%20true%2C%20%22weight%22%3A%203%7D%0A%20%20%20%20%20%20%20%20%20%20%20%20%29.addTo%28map_97e30b8a2e154d5d967becc5487a4299%29%3B%0A%20%20%20%20%20%20%20%20%0A%20%20%20%20%0A%20%20%20%20%20%20%20%20var%20popup_48c58dd7a487447a9a2313b999405366%20%3D%20L.popup%28%7B%22maxWidth%22%3A%20%22100%25%22%7D%29%3B%0A%0A%20%20%20%20%20%20%20%20%0A%20%20%20%20%20%20%20%20%20%20%20%20var%20html_3e80fec76c1249f3baa048e68ad299d4%20%3D%20%24%28%60%3Cdiv%20id%3D%22html_3e80fec76c1249f3baa048e68ad299d4%22%20style%3D%22width%3A%20100.0%25%3B%20height%3A%20100.0%25%3B%22%3EW%2041%20St%20%26%208%20Ave%3C/div%3E%60%29%5B0%5D%3B%0A%20%20%20%20%20%20%20%20%20%20%20%20popup_48c58dd7a487447a9a2313b999405366.setContent%28html_3e80fec76c1249f3baa048e68ad299d4%29%3B%0A%20%20%20%20%20%20%20%20%0A%0A%20%20%20%20%20%20%20%20circle_85812935a4094b8fade9237207d12a98.bindPopup%28popup_48c58dd7a487447a9a2313b999405366%29%0A%20%20%20%20%20%20%20%20%3B%0A%0A%20%20%20%20%20%20%20%20%0A%20%20%20%20%0A%20%20%20%20%0A%20%20%20%20%20%20%20%20%20%20%20%20var%20circle_24a82f3a3f9c43fca56a61f2f1e76bba%20%3D%20L.circle%28%0A%20%20%20%20%20%20%20%20%20%20%20%20%20%20%20%20%5B40.742143%2C%20-74.008204%5D%2C%0A%20%20%20%20%20%20%20%20%20%20%20%20%20%20%20%20%7B%22bubblingMouseEvents%22%3A%20true%2C%20%22color%22%3A%20%22blue%22%2C%20%22dashArray%22%3A%20null%2C%20%22dashOffset%22%3A%20null%2C%20%22fill%22%3A%20true%2C%20%22fillColor%22%3A%20%22blue%22%2C%20%22fillOpacity%22%3A%200.2%2C%20%22fillRule%22%3A%20%22evenodd%22%2C%20%22lineCap%22%3A%20%22round%22%2C%20%22lineJoin%22%3A%20%22round%22%2C%20%22opacity%22%3A%201.0%2C%20%22radius%22%3A%20200%2C%20%22stroke%22%3A%20true%2C%20%22weight%22%3A%203%7D%0A%20%20%20%20%20%20%20%20%20%20%20%20%29.addTo%28map_97e30b8a2e154d5d967becc5487a4299%29%3B%0A%20%20%20%20%20%20%20%20%0A%20%20%20%20%0A%20%20%20%20%20%20%20%20var%20popup_cb17cc2289044e7c8040dcaadba322dc%20%3D%20L.popup%28%7B%22maxWidth%22%3A%20%22100%25%22%7D%29%3B%0A%0A%20%20%20%20%20%20%20%20%0A%20%20%20%20%20%20%20%20%20%20%20%20var%20html_f7be0d39cb1a495aa23dbcf8c4a1ff7a%20%3D%20%24%28%60%3Cdiv%20id%3D%22html_f7be0d39cb1a495aa23dbcf8c4a1ff7a%22%20style%3D%22width%3A%20100.0%25%3B%20height%3A%20100.0%25%3B%22%3EW%2022%20St%20%26%2010%20Ave%3C/div%3E%60%29%5B0%5D%3B%0A%20%20%20%20%20%20%20%20%20%20%20%20popup_cb17cc2289044e7c8040dcaadba322dc.setContent%28html_f7be0d39cb1a495aa23dbcf8c4a1ff7a%29%3B%0A%20%20%20%20%20%20%20%20%0A%0A%20%20%20%20%20%20%20%20circle_24a82f3a3f9c43fca56a61f2f1e76bba.bindPopup%28popup_cb17cc2289044e7c8040dcaadba322dc%29%0A%20%20%20%20%20%20%20%20%3B%0A%0A%20%20%20%20%20%20%20%20%0A%20%20%20%20%0A%20%20%20%20%0A%20%20%20%20%20%20%20%20%20%20%20%20var%20circle_c72759b27a834e02bf271ce19abf75b9%20%3D%20L.circle%28%0A%20%20%20%20%20%20%20%20%20%20%20%20%20%20%20%20%5B40.727433%2C%20-73.973291%5D%2C%0A%20%20%20%20%20%20%20%20%20%20%20%20%20%20%20%20%7B%22bubblingMouseEvents%22%3A%20true%2C%20%22color%22%3A%20%22blue%22%2C%20%22dashArray%22%3A%20null%2C%20%22dashOffset%22%3A%20null%2C%20%22fill%22%3A%20true%2C%20%22fillColor%22%3A%20%22blue%22%2C%20%22fillOpacity%22%3A%200.2%2C%20%22fillRule%22%3A%20%22evenodd%22%2C%20%22lineCap%22%3A%20%22round%22%2C%20%22lineJoin%22%3A%20%22round%22%2C%20%22opacity%22%3A%201.0%2C%20%22radius%22%3A%20200%2C%20%22stroke%22%3A%20true%2C%20%22weight%22%3A%203%7D%0A%20%20%20%20%20%20%20%20%20%20%20%20%29.addTo%28map_97e30b8a2e154d5d967becc5487a4299%29%3B%0A%20%20%20%20%20%20%20%20%0A%20%20%20%20%0A%20%20%20%20%20%20%20%20var%20popup_57dd0baadefb497ca69cdfe57ff741d7%20%3D%20L.popup%28%7B%22maxWidth%22%3A%20%22100%25%22%7D%29%3B%0A%0A%20%20%20%20%20%20%20%20%0A%20%20%20%20%20%20%20%20%20%20%20%20var%20html_5cb89673161c4ccb8418c6c0bcb374a5%20%3D%20%24%28%60%3Cdiv%20id%3D%22html_5cb89673161c4ccb8418c6c0bcb374a5%22%20style%3D%22width%3A%20100.0%25%3B%20height%3A%20100.0%25%3B%22%3EBroadway%20%26%20E%2014%20St%3C/div%3E%60%29%5B0%5D%3B%0A%20%20%20%20%20%20%20%20%20%20%20%20popup_57dd0baadefb497ca69cdfe57ff741d7.setContent%28html_5cb89673161c4ccb8418c6c0bcb374a5%29%3B%0A%20%20%20%20%20%20%20%20%0A%0A%20%20%20%20%20%20%20%20circle_c72759b27a834e02bf271ce19abf75b9.bindPopup%28popup_57dd0baadefb497ca69cdfe57ff741d7%29%0A%20%20%20%20%20%20%20%20%3B%0A%0A%20%20%20%20%20%20%20%20%0A%20%20%20%20%0A%20%20%20%20%0A%20%20%20%20%20%20%20%20%20%20%20%20var%20circle_e5cc800997cb4dec81cef51644012d5b%20%3D%20L.circle%28%0A%20%20%20%20%20%20%20%20%20%20%20%20%20%20%20%20%5B40.750992%2C%20-73.990623%5D%2C%0A%20%20%20%20%20%20%20%20%20%20%20%20%20%20%20%20%7B%22bubblingMouseEvents%22%3A%20true%2C%20%22color%22%3A%20%22blue%22%2C%20%22dashArray%22%3A%20null%2C%20%22dashOffset%22%3A%20null%2C%20%22fill%22%3A%20true%2C%20%22fillColor%22%3A%20%22blue%22%2C%20%22fillOpacity%22%3A%200.2%2C%20%22fillRule%22%3A%20%22evenodd%22%2C%20%22lineCap%22%3A%20%22round%22%2C%20%22lineJoin%22%3A%20%22round%22%2C%20%22opacity%22%3A%201.0%2C%20%22radius%22%3A%20200%2C%20%22stroke%22%3A%20true%2C%20%22weight%22%3A%203%7D%0A%20%20%20%20%20%20%20%20%20%20%20%20%29.addTo%28map_97e30b8a2e154d5d967becc5487a4299%29%3B%0A%20%20%20%20%20%20%20%20%0A%20%20%20%20%0A%20%20%20%20%20%20%20%20var%20popup_6bf091cd600b45108dd7ab1c284b1201%20%3D%20L.popup%28%7B%22maxWidth%22%3A%20%22100%25%22%7D%29%3B%0A%0A%20%20%20%20%20%20%20%20%0A%20%20%20%20%20%20%20%20%20%20%20%20var%20html_74404e9aab5142349fd65cf49373585b%20%3D%20%24%28%60%3Cdiv%20id%3D%22html_74404e9aab5142349fd65cf49373585b%22%20style%3D%22width%3A%20100.0%25%3B%20height%3A%20100.0%25%3B%22%3EW%2031%20St%20%26%207%20Ave%3C/div%3E%60%29%5B0%5D%3B%0A%20%20%20%20%20%20%20%20%20%20%20%20popup_6bf091cd600b45108dd7ab1c284b1201.setContent%28html_74404e9aab5142349fd65cf49373585b%29%3B%0A%20%20%20%20%20%20%20%20%0A%0A%20%20%20%20%20%20%20%20circle_e5cc800997cb4dec81cef51644012d5b.bindPopup%28popup_6bf091cd600b45108dd7ab1c284b1201%29%0A%20%20%20%20%20%20%20%20%3B%0A%0A%20%20%20%20%20%20%20%20%0A%20%20%20%20%0A%20%20%20%20%0A%20%20%20%20%20%20%20%20%20%20%20%20var%20circle_4084b758a2524da3af6169fb63c9735a%20%3D%20L.circle%28%0A%20%20%20%20%20%20%20%20%20%20%20%20%20%20%20%20%5B40.734134%2C%20-73.999188%5D%2C%0A%20%20%20%20%20%20%20%20%20%20%20%20%20%20%20%20%7B%22bubblingMouseEvents%22%3A%20true%2C%20%22color%22%3A%20%22red%22%2C%20%22dashArray%22%3A%20null%2C%20%22dashOffset%22%3A%20null%2C%20%22fill%22%3A%20true%2C%20%22fillColor%22%3A%20%22red%22%2C%20%22fillOpacity%22%3A%200.2%2C%20%22fillRule%22%3A%20%22evenodd%22%2C%20%22lineCap%22%3A%20%22round%22%2C%20%22lineJoin%22%3A%20%22round%22%2C%20%22opacity%22%3A%201.0%2C%20%22radius%22%3A%20200%2C%20%22stroke%22%3A%20true%2C%20%22weight%22%3A%203%7D%0A%20%20%20%20%20%20%20%20%20%20%20%20%29.addTo%28map_97e30b8a2e154d5d967becc5487a4299%29%3B%0A%20%20%20%20%20%20%20%20%0A%20%20%20%20%0A%20%20%20%20%20%20%20%20var%20popup_491f1e0fa4bf42e6bedffe15619f7fef%20%3D%20L.popup%28%7B%22maxWidth%22%3A%20%22100%25%22%7D%29%3B%0A%0A%20%20%20%20%20%20%20%20%0A%20%20%20%20%20%20%20%20%20%20%20%20var%20html_ca0b4b21a087401795dc98263f6ac55a%20%3D%20%24%28%60%3Cdiv%20id%3D%22html_ca0b4b21a087401795dc98263f6ac55a%22%20style%3D%22width%3A%20100.0%25%3B%20height%3A%20100.0%25%3B%22%3EColumbia%20St%20%26%20W%209%20St%3C/div%3E%60%29%5B0%5D%3B%0A%20%20%20%20%20%20%20%20%20%20%20%20popup_491f1e0fa4bf42e6bedffe15619f7fef.setContent%28html_ca0b4b21a087401795dc98263f6ac55a%29%3B%0A%20%20%20%20%20%20%20%20%0A%0A%20%20%20%20%20%20%20%20circle_4084b758a2524da3af6169fb63c9735a.bindPopup%28popup_491f1e0fa4bf42e6bedffe15619f7fef%29%0A%20%20%20%20%20%20%20%20%3B%0A%0A%20%20%20%20%20%20%20%20%0A%20%20%20%20%0A%20%20%20%20%0A%20%20%20%20%20%20%20%20%20%20%20%20var%20circle_3f51dff1a3bc45ff884cce3a4b5624bf%20%3D%20L.circle%28%0A%20%20%20%20%20%20%20%20%20%20%20%20%20%20%20%20%5B40.750056%2C%20-73.984184%5D%2C%0A%20%20%20%20%20%20%20%20%20%20%20%20%20%20%20%20%7B%22bubblingMouseEvents%22%3A%20true%2C%20%22color%22%3A%20%22red%22%2C%20%22dashArray%22%3A%20null%2C%20%22dashOffset%22%3A%20null%2C%20%22fill%22%3A%20true%2C%20%22fillColor%22%3A%20%22red%22%2C%20%22fillOpacity%22%3A%200.2%2C%20%22fillRule%22%3A%20%22evenodd%22%2C%20%22lineCap%22%3A%20%22round%22%2C%20%22lineJoin%22%3A%20%22round%22%2C%20%22opacity%22%3A%201.0%2C%20%22radius%22%3A%20200%2C%20%22stroke%22%3A%20true%2C%20%22weight%22%3A%203%7D%0A%20%20%20%20%20%20%20%20%20%20%20%20%29.addTo%28map_97e30b8a2e154d5d967becc5487a4299%29%3B%0A%20%20%20%20%20%20%20%20%0A%20%20%20%20%0A%20%20%20%20%20%20%20%20var%20popup_b2e03103cd18461f9178b41a020970c6%20%3D%20L.popup%28%7B%22maxWidth%22%3A%20%22100%25%22%7D%29%3B%0A%0A%20%20%20%20%20%20%20%20%0A%20%20%20%20%20%20%20%20%20%20%20%20var%20html_c90ba0bb129342fa84cc35178b5c731e%20%3D%20%24%28%60%3Cdiv%20id%3D%22html_c90ba0bb129342fa84cc35178b5c731e%22%20style%3D%22width%3A%20100.0%25%3B%20height%3A%20100.0%25%3B%22%3E21%20St%20%26%2036%20Ave%3C/div%3E%60%29%5B0%5D%3B%0A%20%20%20%20%20%20%20%20%20%20%20%20popup_b2e03103cd18461f9178b41a020970c6.setContent%28html_c90ba0bb129342fa84cc35178b5c731e%29%3B%0A%20%20%20%20%20%20%20%20%0A%0A%20%20%20%20%20%20%20%20circle_3f51dff1a3bc45ff884cce3a4b5624bf.bindPopup%28popup_b2e03103cd18461f9178b41a020970c6%29%0A%20%20%20%20%20%20%20%20%3B%0A%0A%20%20%20%20%20%20%20%20%0A%20%20%20%20%0A%20%20%20%20%0A%20%20%20%20%20%20%20%20%20%20%20%20var%20circle_44e7a746a7da479c9c8c5c3ccbe37bf4%20%3D%20L.circle%28%0A%20%20%20%20%20%20%20%20%20%20%20%20%20%20%20%20%5B40.750331%2C%20-73.981056%5D%2C%0A%20%20%20%20%20%20%20%20%20%20%20%20%20%20%20%20%7B%22bubblingMouseEvents%22%3A%20true%2C%20%22color%22%3A%20%22red%22%2C%20%22dashArray%22%3A%20null%2C%20%22dashOffset%22%3A%20null%2C%20%22fill%22%3A%20true%2C%20%22fillColor%22%3A%20%22red%22%2C%20%22fillOpacity%22%3A%200.2%2C%20%22fillRule%22%3A%20%22evenodd%22%2C%20%22lineCap%22%3A%20%22round%22%2C%20%22lineJoin%22%3A%20%22round%22%2C%20%22opacity%22%3A%201.0%2C%20%22radius%22%3A%20200%2C%20%22stroke%22%3A%20true%2C%20%22weight%22%3A%203%7D%0A%20%20%20%20%20%20%20%20%20%20%20%20%29.addTo%28map_97e30b8a2e154d5d967becc5487a4299%29%3B%0A%20%20%20%20%20%20%20%20%0A%20%20%20%20%0A%20%20%20%20%20%20%20%20var%20popup_09538beb699b4fc195b7d8deef4e94da%20%3D%20L.popup%28%7B%22maxWidth%22%3A%20%22100%25%22%7D%29%3B%0A%0A%20%20%20%20%20%20%20%20%0A%20%20%20%20%20%20%20%20%20%20%20%20var%20html_b1bd1d0ba5b2452e8b8c4cf00c90dc7f%20%3D%20%24%28%60%3Cdiv%20id%3D%22html_b1bd1d0ba5b2452e8b8c4cf00c90dc7f%22%20style%3D%22width%3A%20100.0%25%3B%20height%3A%20100.0%25%3B%22%3E21%20St%20%26%2038%20Ave%3C/div%3E%60%29%5B0%5D%3B%0A%20%20%20%20%20%20%20%20%20%20%20%20popup_09538beb699b4fc195b7d8deef4e94da.setContent%28html_b1bd1d0ba5b2452e8b8c4cf00c90dc7f%29%3B%0A%20%20%20%20%20%20%20%20%0A%0A%20%20%20%20%20%20%20%20circle_44e7a746a7da479c9c8c5c3ccbe37bf4.bindPopup%28popup_09538beb699b4fc195b7d8deef4e94da%29%0A%20%20%20%20%20%20%20%20%3B%0A%0A%20%20%20%20%20%20%20%20%0A%20%20%20%20%0A%20%20%20%20%0A%20%20%20%20%20%20%20%20%20%20%20%20var%20circle_a54d78565261479fbde760a0323db688%20%3D%20L.circle%28%0A%20%20%20%20%20%20%20%20%20%20%20%20%20%20%20%20%5B40.7727287%2C%20-73.9271196%5D%2C%0A%20%20%20%20%20%20%20%20%20%20%20%20%20%20%20%20%7B%22bubblingMouseEvents%22%3A%20true%2C%20%22color%22%3A%20%22red%22%2C%20%22dashArray%22%3A%20null%2C%20%22dashOffset%22%3A%20null%2C%20%22fill%22%3A%20true%2C%20%22fillColor%22%3A%20%22red%22%2C%20%22fillOpacity%22%3A%200.2%2C%20%22fillRule%22%3A%20%22evenodd%22%2C%20%22lineCap%22%3A%20%22round%22%2C%20%22lineJoin%22%3A%20%22round%22%2C%20%22opacity%22%3A%201.0%2C%20%22radius%22%3A%20200%2C%20%22stroke%22%3A%20true%2C%20%22weight%22%3A%203%7D%0A%20%20%20%20%20%20%20%20%20%20%20%20%29.addTo%28map_97e30b8a2e154d5d967becc5487a4299%29%3B%0A%20%20%20%20%20%20%20%20%0A%20%20%20%20%0A%20%20%20%20%20%20%20%20var%20popup_e6ab500de6414c8c95b9498714a3e804%20%3D%20L.popup%28%7B%22maxWidth%22%3A%20%22100%25%22%7D%29%3B%0A%0A%20%20%20%20%20%20%20%20%0A%20%20%20%20%20%20%20%20%20%20%20%20var%20html_1f34b172de7b40d0a3c4b046499dce47%20%3D%20%24%28%60%3Cdiv%20id%3D%22html_1f34b172de7b40d0a3c4b046499dce47%22%20style%3D%22width%3A%20100.0%25%3B%20height%3A%20100.0%25%3B%22%3E27%20Ave%20%26%204%20St%3C/div%3E%60%29%5B0%5D%3B%0A%20%20%20%20%20%20%20%20%20%20%20%20popup_e6ab500de6414c8c95b9498714a3e804.setContent%28html_1f34b172de7b40d0a3c4b046499dce47%29%3B%0A%20%20%20%20%20%20%20%20%0A%0A%20%20%20%20%20%20%20%20circle_a54d78565261479fbde760a0323db688.bindPopup%28popup_e6ab500de6414c8c95b9498714a3e804%29%0A%20%20%20%20%20%20%20%20%3B%0A%0A%20%20%20%20%20%20%20%20%0A%20%20%20%20%0A%20%20%20%20%0A%20%20%20%20%20%20%20%20%20%20%20%20var%20circle_c3f3174280e344319655b31acb9501a1%20%3D%20L.circle%28%0A%20%20%20%20%20%20%20%20%20%20%20%20%20%20%20%20%5B40.753079%2C%20-73.93717%5D%2C%0A%20%20%20%20%20%20%20%20%20%20%20%20%20%20%20%20%7B%22bubblingMouseEvents%22%3A%20true%2C%20%22color%22%3A%20%22red%22%2C%20%22dashArray%22%3A%20null%2C%20%22dashOffset%22%3A%20null%2C%20%22fill%22%3A%20true%2C%20%22fillColor%22%3A%20%22red%22%2C%20%22fillOpacity%22%3A%200.2%2C%20%22fillRule%22%3A%20%22evenodd%22%2C%20%22lineCap%22%3A%20%22round%22%2C%20%22lineJoin%22%3A%20%22round%22%2C%20%22opacity%22%3A%201.0%2C%20%22radius%22%3A%20200%2C%20%22stroke%22%3A%20true%2C%20%22weight%22%3A%203%7D%0A%20%20%20%20%20%20%20%20%20%20%20%20%29.addTo%28map_97e30b8a2e154d5d967becc5487a4299%29%3B%0A%20%20%20%20%20%20%20%20%0A%20%20%20%20%0A%20%20%20%20%20%20%20%20var%20popup_f16dcbb183774179ac941b70e175d988%20%3D%20L.popup%28%7B%22maxWidth%22%3A%20%22100%25%22%7D%29%3B%0A%0A%20%20%20%20%20%20%20%20%0A%20%20%20%20%20%20%20%20%20%20%20%20var%20html_a71b0f9cb2c249849d93c0c1d6fbb490%20%3D%20%24%28%60%3Cdiv%20id%3D%22html_a71b0f9cb2c249849d93c0c1d6fbb490%22%20style%3D%22width%3A%20100.0%25%3B%20height%3A%20100.0%25%3B%22%3E40%20Ave%20%26%209%20St%3C/div%3E%60%29%5B0%5D%3B%0A%20%20%20%20%20%20%20%20%20%20%20%20popup_f16dcbb183774179ac941b70e175d988.setContent%28html_a71b0f9cb2c249849d93c0c1d6fbb490%29%3B%0A%20%20%20%20%20%20%20%20%0A%0A%20%20%20%20%20%20%20%20circle_c3f3174280e344319655b31acb9501a1.bindPopup%28popup_f16dcbb183774179ac941b70e175d988%29%0A%20%20%20%20%20%20%20%20%3B%0A%0A%20%20%20%20%20%20%20%20%0A%20%20%20%20%0A%20%20%20%20%0A%20%20%20%20%20%20%20%20%20%20%20%20var%20circle_456eb7599d5b49d3b8d68459eaf8cd14%20%3D%20L.circle%28%0A%20%20%20%20%20%20%20%20%20%20%20%20%20%20%20%20%5B40.6617743%2C%20-73.971089%5D%2C%0A%20%20%20%20%20%20%20%20%20%20%20%20%20%20%20%20%7B%22bubblingMouseEvents%22%3A%20true%2C%20%22color%22%3A%20%22red%22%2C%20%22dashArray%22%3A%20null%2C%20%22dashOffset%22%3A%20null%2C%20%22fill%22%3A%20true%2C%20%22fillColor%22%3A%20%22red%22%2C%20%22fillOpacity%22%3A%200.2%2C%20%22fillRule%22%3A%20%22evenodd%22%2C%20%22lineCap%22%3A%20%22round%22%2C%20%22lineJoin%22%3A%20%22round%22%2C%20%22opacity%22%3A%201.0%2C%20%22radius%22%3A%20200%2C%20%22stroke%22%3A%20true%2C%20%22weight%22%3A%203%7D%0A%20%20%20%20%20%20%20%20%20%20%20%20%29.addTo%28map_97e30b8a2e154d5d967becc5487a4299%29%3B%0A%20%20%20%20%20%20%20%20%0A%20%20%20%20%0A%20%20%20%20%20%20%20%20var%20popup_d671dceccdda400695793d507a8453cf%20%3D%20L.popup%28%7B%22maxWidth%22%3A%20%22100%25%22%7D%29%3B%0A%0A%20%20%20%20%20%20%20%20%0A%20%20%20%20%20%20%20%20%20%20%20%20var%20html_2ff337c338ee4112bf787898af270c87%20%3D%20%24%28%60%3Cdiv%20id%3D%22html_2ff337c338ee4112bf787898af270c87%22%20style%3D%22width%3A%20100.0%25%3B%20height%3A%20100.0%25%3B%22%3EProspect%20Park%20-%205%20Year%20Anniversary%20Celebration%3C/div%3E%60%29%5B0%5D%3B%0A%20%20%20%20%20%20%20%20%20%20%20%20popup_d671dceccdda400695793d507a8453cf.setContent%28html_2ff337c338ee4112bf787898af270c87%29%3B%0A%20%20%20%20%20%20%20%20%0A%0A%20%20%20%20%20%20%20%20circle_456eb7599d5b49d3b8d68459eaf8cd14.bindPopup%28popup_d671dceccdda400695793d507a8453cf%29%0A%20%20%20%20%20%20%20%20%3B%0A%0A%20%20%20%20%20%20%20%20%0A%20%20%20%20%0A%20%20%20%20%0A%20%20%20%20%20%20%20%20%20%20%20%20var%20circle_fda8c0f4dd9743a88d6d7a95c12f7071%20%3D%20L.circle%28%0A%20%20%20%20%20%20%20%20%20%20%20%20%20%20%20%20%5B40.7101013%2C%20-73.9861753%5D%2C%0A%20%20%20%20%20%20%20%20%20%20%20%20%20%20%20%20%7B%22bubblingMouseEvents%22%3A%20true%2C%20%22color%22%3A%20%22red%22%2C%20%22dashArray%22%3A%20null%2C%20%22dashOffset%22%3A%20null%2C%20%22fill%22%3A%20true%2C%20%22fillColor%22%3A%20%22red%22%2C%20%22fillOpacity%22%3A%200.2%2C%20%22fillRule%22%3A%20%22evenodd%22%2C%20%22lineCap%22%3A%20%22round%22%2C%20%22lineJoin%22%3A%20%22round%22%2C%20%22opacity%22%3A%201.0%2C%20%22radius%22%3A%20200%2C%20%22stroke%22%3A%20true%2C%20%22weight%22%3A%203%7D%0A%20%20%20%20%20%20%20%20%20%20%20%20%29.addTo%28map_97e30b8a2e154d5d967becc5487a4299%29%3B%0A%20%20%20%20%20%20%20%20%0A%20%20%20%20%0A%20%20%20%20%20%20%20%20var%20popup_9372bdf4e622495aaea1082f7edebd44%20%3D%20L.popup%28%7B%22maxWidth%22%3A%20%22100%25%22%7D%29%3B%0A%0A%20%20%20%20%20%20%20%20%0A%20%20%20%20%20%20%20%20%20%20%20%20var%20html_df27112cb9ff42babdfadf3510b54944%20%3D%20%24%28%60%3Cdiv%20id%3D%22html_df27112cb9ff42babdfadf3510b54944%22%20style%3D%22width%3A%20100.0%25%3B%20height%3A%20100.0%25%3B%22%3ESmart%20Cities%20Conference%3C/div%3E%60%29%5B0%5D%3B%0A%20%20%20%20%20%20%20%20%20%20%20%20popup_9372bdf4e622495aaea1082f7edebd44.setContent%28html_df27112cb9ff42babdfadf3510b54944%29%3B%0A%20%20%20%20%20%20%20%20%0A%0A%20%20%20%20%20%20%20%20circle_fda8c0f4dd9743a88d6d7a95c12f7071.bindPopup%28popup_9372bdf4e622495aaea1082f7edebd44%29%0A%20%20%20%20%20%20%20%20%3B%0A%0A%20%20%20%20%20%20%20%20%0A%20%20%20%20%0A%20%20%20%20%0A%20%20%20%20%20%20%20%20%20%20%20%20var%20circle_35a08b23b92842958e67151b17feef03%20%3D%20L.circle%28%0A%20%20%20%20%20%20%20%20%20%20%20%20%20%20%20%20%5B40.674454%2C%20-74.007355%5D%2C%0A%20%20%20%20%20%20%20%20%20%20%20%20%20%20%20%20%7B%22bubblingMouseEvents%22%3A%20true%2C%20%22color%22%3A%20%22red%22%2C%20%22dashArray%22%3A%20null%2C%20%22dashOffset%22%3A%20null%2C%20%22fill%22%3A%20true%2C%20%22fillColor%22%3A%20%22red%22%2C%20%22fillOpacity%22%3A%200.2%2C%20%22fillRule%22%3A%20%22evenodd%22%2C%20%22lineCap%22%3A%20%22round%22%2C%20%22lineJoin%22%3A%20%22round%22%2C%20%22opacity%22%3A%201.0%2C%20%22radius%22%3A%20200%2C%20%22stroke%22%3A%20true%2C%20%22weight%22%3A%203%7D%0A%20%20%20%20%20%20%20%20%20%20%20%20%29.addTo%28map_97e30b8a2e154d5d967becc5487a4299%29%3B%0A%20%20%20%20%20%20%20%20%0A%20%20%20%20%0A%20%20%20%20%20%20%20%20var%20popup_0dfaa39d56cb49bda26fd0e366ddeb31%20%3D%20L.popup%28%7B%22maxWidth%22%3A%20%22100%25%22%7D%29%3B%0A%0A%20%20%20%20%20%20%20%20%0A%20%20%20%20%20%20%20%20%20%20%20%20var%20html_d52ae1506c544083ba0576fc94380939%20%3D%20%24%28%60%3Cdiv%20id%3D%22html_d52ae1506c544083ba0576fc94380939%22%20style%3D%22width%3A%20100.0%25%3B%20height%3A%20100.0%25%3B%22%3EColumbia%20St%20%26%20Lorraine%20St%3C/div%3E%60%29%5B0%5D%3B%0A%20%20%20%20%20%20%20%20%20%20%20%20popup_0dfaa39d56cb49bda26fd0e366ddeb31.setContent%28html_d52ae1506c544083ba0576fc94380939%29%3B%0A%20%20%20%20%20%20%20%20%0A%0A%20%20%20%20%20%20%20%20circle_35a08b23b92842958e67151b17feef03.bindPopup%28popup_0dfaa39d56cb49bda26fd0e366ddeb31%29%0A%20%20%20%20%20%20%20%20%3B%0A%0A%20%20%20%20%20%20%20%20%0A%20%20%20%20%0A%20%20%20%20%0A%20%20%20%20%20%20%20%20%20%20%20%20var%20circle_882381182db94f95972e6b4b7b8bdc16%20%3D%20L.circle%28%0A%20%20%20%20%20%20%20%20%20%20%20%20%20%20%20%20%5B40.7849079%2C%20-73.9507545%5D%2C%0A%20%20%20%20%20%20%20%20%20%20%20%20%20%20%20%20%7B%22bubblingMouseEvents%22%3A%20true%2C%20%22color%22%3A%20%22red%22%2C%20%22dashArray%22%3A%20null%2C%20%22dashOffset%22%3A%20null%2C%20%22fill%22%3A%20true%2C%20%22fillColor%22%3A%20%22red%22%2C%20%22fillOpacity%22%3A%200.2%2C%20%22fillRule%22%3A%20%22evenodd%22%2C%20%22lineCap%22%3A%20%22round%22%2C%20%22lineJoin%22%3A%20%22round%22%2C%20%22opacity%22%3A%201.0%2C%20%22radius%22%3A%20200%2C%20%22stroke%22%3A%20true%2C%20%22weight%22%3A%203%7D%0A%20%20%20%20%20%20%20%20%20%20%20%20%29.addTo%28map_97e30b8a2e154d5d967becc5487a4299%29%3B%0A%20%20%20%20%20%20%20%20%0A%20%20%20%20%0A%20%20%20%20%20%20%20%20var%20popup_8f72be18702b4397a5e9df2a4b31fa26%20%3D%20L.popup%28%7B%22maxWidth%22%3A%20%22100%25%22%7D%29%3B%0A%0A%20%20%20%20%20%20%20%20%0A%20%20%20%20%20%20%20%20%20%20%20%20var%20html_bcadce81a87542c8835ef0135d800ea6%20%3D%20%24%28%60%3Cdiv%20id%3D%22html_bcadce81a87542c8835ef0135d800ea6%22%20style%3D%22width%3A%20100.0%25%3B%20height%3A%20100.0%25%3B%22%3EE%2095%20St%20%26%203%20Ave%3C/div%3E%60%29%5B0%5D%3B%0A%20%20%20%20%20%20%20%20%20%20%20%20popup_8f72be18702b4397a5e9df2a4b31fa26.setContent%28html_bcadce81a87542c8835ef0135d800ea6%29%3B%0A%20%20%20%20%20%20%20%20%0A%0A%20%20%20%20%20%20%20%20circle_882381182db94f95972e6b4b7b8bdc16.bindPopup%28popup_8f72be18702b4397a5e9df2a4b31fa26%29%0A%20%20%20%20%20%20%20%20%3B%0A%0A%20%20%20%20%20%20%20%20%0A%20%20%20%20%0A%20%20%20%20%0A%20%20%20%20%20%20%20%20%20%20%20%20var%20circle_4c52a1df64a64b35b30322e5db955f90%20%3D%20L.circle%28%0A%20%20%20%20%20%20%20%20%20%20%20%20%20%20%20%20%5B40.714269%2C%20-74.005973%5D%2C%0A%20%20%20%20%20%20%20%20%20%20%20%20%20%20%20%20%7B%22bubblingMouseEvents%22%3A%20true%2C%20%22color%22%3A%20%22red%22%2C%20%22dashArray%22%3A%20null%2C%20%22dashOffset%22%3A%20null%2C%20%22fill%22%3A%20true%2C%20%22fillColor%22%3A%20%22red%22%2C%20%22fillOpacity%22%3A%200.2%2C%20%22fillRule%22%3A%20%22evenodd%22%2C%20%22lineCap%22%3A%20%22round%22%2C%20%22lineJoin%22%3A%20%22round%22%2C%20%22opacity%22%3A%201.0%2C%20%22radius%22%3A%20200%2C%20%22stroke%22%3A%20true%2C%20%22weight%22%3A%203%7D%0A%20%20%20%20%20%20%20%20%20%20%20%20%29.addTo%28map_97e30b8a2e154d5d967becc5487a4299%29%3B%0A%20%20%20%20%20%20%20%20%0A%20%20%20%20%0A%20%20%20%20%20%20%20%20var%20popup_f3f6454fcee54f898098d670375b2e99%20%3D%20L.popup%28%7B%22maxWidth%22%3A%20%22100%25%22%7D%29%3B%0A%0A%20%20%20%20%20%20%20%20%0A%20%20%20%20%20%20%20%20%20%20%20%20var%20html_bff8c26d246442d5beff247b6b3256d6%20%3D%20%24%28%60%3Cdiv%20id%3D%22html_bff8c26d246442d5beff247b6b3256d6%22%20style%3D%22width%3A%20100.0%25%3B%20height%3A%20100.0%25%3B%22%3EBressler%3C/div%3E%60%29%5B0%5D%3B%0A%20%20%20%20%20%20%20%20%20%20%20%20popup_f3f6454fcee54f898098d670375b2e99.setContent%28html_bff8c26d246442d5beff247b6b3256d6%29%3B%0A%20%20%20%20%20%20%20%20%0A%0A%20%20%20%20%20%20%20%20circle_4c52a1df64a64b35b30322e5db955f90.bindPopup%28popup_f3f6454fcee54f898098d670375b2e99%29%0A%20%20%20%20%20%20%20%20%3B%0A%0A%20%20%20%20%20%20%20%20%0A%20%20%20%20%0A%3C/script%3E onload=\"this.contentDocument.open();this.contentDocument.write(    decodeURIComponent(this.getAttribute('data-html')));this.contentDocument.close();\" allowfullscreen webkitallowfullscreen mozallowfullscreen></iframe></div></div>"
      ],
      "text/plain": [
       "<folium.folium.Map at 0x1c701af28b0>"
      ]
     },
     "execution_count": 268,
     "metadata": {},
     "output_type": "execute_result"
    }
   ],
   "source": [
    "map_bikes = folium.Map(location=[40.7127281, -74.0060152], zoom_start = 12)\n",
    "\n",
    "for i in range(0,len(df_start_pop_coord_merged)):\n",
    "    folium.Circle(\n",
    "    location=[df_start_pop_coord_merged.iloc[i]['lat'], df_start_pop_coord_merged.iloc[i]['long']],\n",
    "    popup = df_start_pop_coord_merged.iloc[i]['start_station_name'],\n",
    "    radius = 200,\n",
    "    fill = True,\n",
    "    color='blue',\n",
    "    fill_opacity=0.2\n",
    "    ).add_to(map_bikes)\n",
    "\n",
    "for i in range(0,len(df_start_rare_coord_merged)):\n",
    "    folium.Circle(\n",
    "    location=[df_start_rare_coord_merged.iloc[i]['lat'], df_start_rare_coord_merged.iloc[i]['long']],\n",
    "    popup = df_start_rare_coord_merged.iloc[i]['start_station_name'],\n",
    "    radius = 200,\n",
    "    fill = True,\n",
    "    color='red',\n",
    "    fill_opacity=0.2\n",
    "    ).add_to(map_bikes)\n",
    "\n",
    "map_bikes"
   ]
  },
  {
   "cell_type": "markdown",
   "id": "bab24fb0",
   "metadata": {},
   "source": [
    "Red dots indicate the least popular starting and ending stations, and blue dots indicate most popular starting and ending stations."
   ]
  },
  {
   "cell_type": "markdown",
   "id": "b51df0be",
   "metadata": {},
   "source": [
    "#### When during the day are bikes being rented?"
   ]
  },
  {
   "cell_type": "code",
   "execution_count": 269,
   "id": "07bea353",
   "metadata": {},
   "outputs": [
    {
     "data": {
      "text/html": [
       "<div>\n",
       "<style scoped>\n",
       "    .dataframe tbody tr th:only-of-type {\n",
       "        vertical-align: middle;\n",
       "    }\n",
       "\n",
       "    .dataframe tbody tr th {\n",
       "        vertical-align: top;\n",
       "    }\n",
       "\n",
       "    .dataframe thead th {\n",
       "        text-align: right;\n",
       "    }\n",
       "</style>\n",
       "<table border=\"1\" class=\"dataframe\">\n",
       "  <thead>\n",
       "    <tr style=\"text-align: right;\">\n",
       "      <th></th>\n",
       "      <th>start_time</th>\n",
       "      <th>stop_time</th>\n",
       "      <th>start_station_id</th>\n",
       "      <th>start_station_name</th>\n",
       "      <th>end_station_id</th>\n",
       "      <th>end_station_name</th>\n",
       "      <th>user_type</th>\n",
       "      <th>bike_id</th>\n",
       "      <th>gender</th>\n",
       "      <th>age</th>\n",
       "      <th>trip_duration</th>\n",
       "      <th>trip_duration_rounded</th>\n",
       "      <th>hour</th>\n",
       "    </tr>\n",
       "  </thead>\n",
       "  <tbody>\n",
       "    <tr>\n",
       "      <th>0</th>\n",
       "      <td>2018-05-31 23:59:59</td>\n",
       "      <td>2018-06-01 00:12:57</td>\n",
       "      <td>312</td>\n",
       "      <td>Allen St &amp; Stanton St</td>\n",
       "      <td>460</td>\n",
       "      <td>S 4 St &amp; Wythe Ave</td>\n",
       "      <td>Subscriber</td>\n",
       "      <td>25805</td>\n",
       "      <td>male</td>\n",
       "      <td>32</td>\n",
       "      <td>12.97</td>\n",
       "      <td>13</td>\n",
       "      <td>23</td>\n",
       "    </tr>\n",
       "    <tr>\n",
       "      <th>1</th>\n",
       "      <td>2018-05-31 23:59:59</td>\n",
       "      <td>2018-06-01 00:12:26</td>\n",
       "      <td>401</td>\n",
       "      <td>Allen St &amp; Rivington St</td>\n",
       "      <td>360</td>\n",
       "      <td>William St &amp; Pine St</td>\n",
       "      <td>Subscriber</td>\n",
       "      <td>17258</td>\n",
       "      <td>male</td>\n",
       "      <td>24</td>\n",
       "      <td>12.45</td>\n",
       "      <td>12</td>\n",
       "      <td>23</td>\n",
       "    </tr>\n",
       "    <tr>\n",
       "      <th>2</th>\n",
       "      <td>2018-05-31 23:59:51</td>\n",
       "      <td>2018-06-01 00:08:09</td>\n",
       "      <td>483</td>\n",
       "      <td>E 12 St &amp; 3 Ave</td>\n",
       "      <td>368</td>\n",
       "      <td>Carmine St &amp; 6 Ave</td>\n",
       "      <td>Subscriber</td>\n",
       "      <td>19692</td>\n",
       "      <td>male</td>\n",
       "      <td>39</td>\n",
       "      <td>8.28</td>\n",
       "      <td>8</td>\n",
       "      <td>23</td>\n",
       "    </tr>\n",
       "    <tr>\n",
       "      <th>3</th>\n",
       "      <td>2018-05-31 23:59:48</td>\n",
       "      <td>2018-06-01 00:07:33</td>\n",
       "      <td>3107</td>\n",
       "      <td>Bedford Ave &amp; Nassau Ave</td>\n",
       "      <td>3076</td>\n",
       "      <td>Scholes St &amp; Manhattan Ave</td>\n",
       "      <td>Subscriber</td>\n",
       "      <td>28285</td>\n",
       "      <td>male</td>\n",
       "      <td>28</td>\n",
       "      <td>7.75</td>\n",
       "      <td>8</td>\n",
       "      <td>23</td>\n",
       "    </tr>\n",
       "    <tr>\n",
       "      <th>4</th>\n",
       "      <td>2018-05-31 23:59:45</td>\n",
       "      <td>2018-06-01 00:07:48</td>\n",
       "      <td>3341</td>\n",
       "      <td>Central Park West &amp; W 102 St</td>\n",
       "      <td>3400</td>\n",
       "      <td>E 110 St &amp; Madison Ave</td>\n",
       "      <td>Subscriber</td>\n",
       "      <td>21000</td>\n",
       "      <td>female</td>\n",
       "      <td>51</td>\n",
       "      <td>8.05</td>\n",
       "      <td>8</td>\n",
       "      <td>23</td>\n",
       "    </tr>\n",
       "  </tbody>\n",
       "</table>\n",
       "</div>"
      ],
      "text/plain": [
       "            start_time            stop_time  start_station_id  \\\n",
       "0  2018-05-31 23:59:59  2018-06-01 00:12:57               312   \n",
       "1  2018-05-31 23:59:59  2018-06-01 00:12:26               401   \n",
       "2  2018-05-31 23:59:51  2018-06-01 00:08:09               483   \n",
       "3  2018-05-31 23:59:48  2018-06-01 00:07:33              3107   \n",
       "4  2018-05-31 23:59:45  2018-06-01 00:07:48              3341   \n",
       "\n",
       "             start_station_name  end_station_id            end_station_name  \\\n",
       "0         Allen St & Stanton St             460          S 4 St & Wythe Ave   \n",
       "1       Allen St & Rivington St             360        William St & Pine St   \n",
       "2               E 12 St & 3 Ave             368          Carmine St & 6 Ave   \n",
       "3      Bedford Ave & Nassau Ave            3076  Scholes St & Manhattan Ave   \n",
       "4  Central Park West & W 102 St            3400      E 110 St & Madison Ave   \n",
       "\n",
       "    user_type  bike_id  gender  age  trip_duration  trip_duration_rounded hour  \n",
       "0  Subscriber    25805    male   32          12.97                     13   23  \n",
       "1  Subscriber    17258    male   24          12.45                     12   23  \n",
       "2  Subscriber    19692    male   39           8.28                      8   23  \n",
       "3  Subscriber    28285    male   28           7.75                      8   23  \n",
       "4  Subscriber    21000  female   51           8.05                      8   23  "
      ]
     },
     "execution_count": 269,
     "metadata": {},
     "output_type": "execute_result"
    }
   ],
   "source": [
    "df['hour'] = df['start_time'].str[10:13]\n",
    "df.head()"
   ]
  },
  {
   "cell_type": "code",
   "execution_count": 270,
   "id": "d578f79f",
   "metadata": {},
   "outputs": [
    {
     "data": {
      "text/html": [
       "<div>\n",
       "<style scoped>\n",
       "    .dataframe tbody tr th:only-of-type {\n",
       "        vertical-align: middle;\n",
       "    }\n",
       "\n",
       "    .dataframe tbody tr th {\n",
       "        vertical-align: top;\n",
       "    }\n",
       "\n",
       "    .dataframe thead th {\n",
       "        text-align: right;\n",
       "    }\n",
       "</style>\n",
       "<table border=\"1\" class=\"dataframe\">\n",
       "  <thead>\n",
       "    <tr style=\"text-align: right;\">\n",
       "      <th>gender</th>\n",
       "      <th>female</th>\n",
       "      <th>male</th>\n",
       "    </tr>\n",
       "    <tr>\n",
       "      <th>hour</th>\n",
       "      <th></th>\n",
       "      <th></th>\n",
       "    </tr>\n",
       "  </thead>\n",
       "  <tbody>\n",
       "    <tr>\n",
       "      <th>00</th>\n",
       "      <td>2575</td>\n",
       "      <td>11064</td>\n",
       "    </tr>\n",
       "    <tr>\n",
       "      <th>01</th>\n",
       "      <td>1245</td>\n",
       "      <td>6325</td>\n",
       "    </tr>\n",
       "    <tr>\n",
       "      <th>02</th>\n",
       "      <td>629</td>\n",
       "      <td>3729</td>\n",
       "    </tr>\n",
       "    <tr>\n",
       "      <th>03</th>\n",
       "      <td>396</td>\n",
       "      <td>2178</td>\n",
       "    </tr>\n",
       "    <tr>\n",
       "      <th>04</th>\n",
       "      <td>530</td>\n",
       "      <td>2295</td>\n",
       "    </tr>\n",
       "    <tr>\n",
       "      <th>05</th>\n",
       "      <td>2415</td>\n",
       "      <td>8621</td>\n",
       "    </tr>\n",
       "    <tr>\n",
       "      <th>06</th>\n",
       "      <td>9123</td>\n",
       "      <td>30320</td>\n",
       "    </tr>\n",
       "    <tr>\n",
       "      <th>07</th>\n",
       "      <td>21584</td>\n",
       "      <td>63063</td>\n",
       "    </tr>\n",
       "    <tr>\n",
       "      <th>08</th>\n",
       "      <td>39434</td>\n",
       "      <td>106059</td>\n",
       "    </tr>\n",
       "    <tr>\n",
       "      <th>09</th>\n",
       "      <td>29038</td>\n",
       "      <td>75959</td>\n",
       "    </tr>\n",
       "    <tr>\n",
       "      <th>10</th>\n",
       "      <td>18308</td>\n",
       "      <td>46896</td>\n",
       "    </tr>\n",
       "    <tr>\n",
       "      <th>11</th>\n",
       "      <td>19141</td>\n",
       "      <td>47072</td>\n",
       "    </tr>\n",
       "    <tr>\n",
       "      <th>12</th>\n",
       "      <td>20881</td>\n",
       "      <td>55063</td>\n",
       "    </tr>\n",
       "    <tr>\n",
       "      <th>13</th>\n",
       "      <td>21598</td>\n",
       "      <td>57023</td>\n",
       "    </tr>\n",
       "    <tr>\n",
       "      <th>14</th>\n",
       "      <td>22711</td>\n",
       "      <td>59760</td>\n",
       "    </tr>\n",
       "    <tr>\n",
       "      <th>15</th>\n",
       "      <td>24468</td>\n",
       "      <td>64226</td>\n",
       "    </tr>\n",
       "    <tr>\n",
       "      <th>16</th>\n",
       "      <td>28330</td>\n",
       "      <td>81226</td>\n",
       "    </tr>\n",
       "    <tr>\n",
       "      <th>17</th>\n",
       "      <td>40430</td>\n",
       "      <td>120353</td>\n",
       "    </tr>\n",
       "    <tr>\n",
       "      <th>18</th>\n",
       "      <td>40329</td>\n",
       "      <td>116467</td>\n",
       "    </tr>\n",
       "    <tr>\n",
       "      <th>19</th>\n",
       "      <td>28269</td>\n",
       "      <td>80405</td>\n",
       "    </tr>\n",
       "    <tr>\n",
       "      <th>20</th>\n",
       "      <td>18726</td>\n",
       "      <td>55689</td>\n",
       "    </tr>\n",
       "    <tr>\n",
       "      <th>21</th>\n",
       "      <td>12097</td>\n",
       "      <td>37528</td>\n",
       "    </tr>\n",
       "    <tr>\n",
       "      <th>22</th>\n",
       "      <td>8177</td>\n",
       "      <td>28685</td>\n",
       "    </tr>\n",
       "    <tr>\n",
       "      <th>23</th>\n",
       "      <td>5143</td>\n",
       "      <td>19751</td>\n",
       "    </tr>\n",
       "  </tbody>\n",
       "</table>\n",
       "</div>"
      ],
      "text/plain": [
       "gender  female    male\n",
       "hour                  \n",
       " 00       2575   11064\n",
       " 01       1245    6325\n",
       " 02        629    3729\n",
       " 03        396    2178\n",
       " 04        530    2295\n",
       " 05       2415    8621\n",
       " 06       9123   30320\n",
       " 07      21584   63063\n",
       " 08      39434  106059\n",
       " 09      29038   75959\n",
       " 10      18308   46896\n",
       " 11      19141   47072\n",
       " 12      20881   55063\n",
       " 13      21598   57023\n",
       " 14      22711   59760\n",
       " 15      24468   64226\n",
       " 16      28330   81226\n",
       " 17      40430  120353\n",
       " 18      40329  116467\n",
       " 19      28269   80405\n",
       " 20      18726   55689\n",
       " 21      12097   37528\n",
       " 22       8177   28685\n",
       " 23       5143   19751"
      ]
     },
     "execution_count": 270,
     "metadata": {},
     "output_type": "execute_result"
    }
   ],
   "source": [
    "df_hour = df.groupby(['hour', 'gender']).hour.count().unstack()\n",
    "df_hour"
   ]
  },
  {
   "cell_type": "code",
   "execution_count": 271,
   "id": "0c5a5ac2",
   "metadata": {
    "scrolled": true
   },
   "outputs": [
    {
     "data": {
      "text/plain": [
       "Text(0, 0.5, 'Number of trips')"
      ]
     },
     "execution_count": 271,
     "metadata": {},
     "output_type": "execute_result"
    },
    {
     "data": {
      "image/png": "[encoded data removed]",
      "text/plain": [
       "<Figure size 1152x576 with 1 Axes>"
      ]
     },
     "metadata": {
      "needs_background": "light"
     },
     "output_type": "display_data"
    }
   ],
   "source": [
    "df_hour.plot(kind = 'bar', figsize=(16,8), colormap = 'tab20')\n",
    "plt.title('Number of starting trips per hour')\n",
    "plt.xlabel('Hour of the day')\n",
    "plt.ylabel('Number of trips')"
   ]
  },
  {
   "cell_type": "markdown",
   "id": "b50bd0ad",
   "metadata": {},
   "source": [
    "#### When during the month are the bikes being rented?"
   ]
  },
  {
   "cell_type": "code",
   "execution_count": 272,
   "id": "76af68bd",
   "metadata": {},
   "outputs": [
    {
     "data": {
      "text/html": [
       "<div>\n",
       "<style scoped>\n",
       "    .dataframe tbody tr th:only-of-type {\n",
       "        vertical-align: middle;\n",
       "    }\n",
       "\n",
       "    .dataframe tbody tr th {\n",
       "        vertical-align: top;\n",
       "    }\n",
       "\n",
       "    .dataframe thead th {\n",
       "        text-align: right;\n",
       "    }\n",
       "</style>\n",
       "<table border=\"1\" class=\"dataframe\">\n",
       "  <thead>\n",
       "    <tr style=\"text-align: right;\">\n",
       "      <th></th>\n",
       "      <th>start_time</th>\n",
       "      <th>stop_time</th>\n",
       "      <th>start_station_id</th>\n",
       "      <th>start_station_name</th>\n",
       "      <th>end_station_id</th>\n",
       "      <th>end_station_name</th>\n",
       "      <th>user_type</th>\n",
       "      <th>bike_id</th>\n",
       "      <th>gender</th>\n",
       "      <th>age</th>\n",
       "      <th>trip_duration</th>\n",
       "      <th>trip_duration_rounded</th>\n",
       "      <th>hour</th>\n",
       "      <th>date</th>\n",
       "    </tr>\n",
       "  </thead>\n",
       "  <tbody>\n",
       "    <tr>\n",
       "      <th>0</th>\n",
       "      <td>2018-05-31 23:59:59</td>\n",
       "      <td>2018-06-01 00:12:57</td>\n",
       "      <td>312</td>\n",
       "      <td>Allen St &amp; Stanton St</td>\n",
       "      <td>460</td>\n",
       "      <td>S 4 St &amp; Wythe Ave</td>\n",
       "      <td>Subscriber</td>\n",
       "      <td>25805</td>\n",
       "      <td>male</td>\n",
       "      <td>32</td>\n",
       "      <td>12.97</td>\n",
       "      <td>13</td>\n",
       "      <td>23</td>\n",
       "      <td>31</td>\n",
       "    </tr>\n",
       "    <tr>\n",
       "      <th>1</th>\n",
       "      <td>2018-05-31 23:59:59</td>\n",
       "      <td>2018-06-01 00:12:26</td>\n",
       "      <td>401</td>\n",
       "      <td>Allen St &amp; Rivington St</td>\n",
       "      <td>360</td>\n",
       "      <td>William St &amp; Pine St</td>\n",
       "      <td>Subscriber</td>\n",
       "      <td>17258</td>\n",
       "      <td>male</td>\n",
       "      <td>24</td>\n",
       "      <td>12.45</td>\n",
       "      <td>12</td>\n",
       "      <td>23</td>\n",
       "      <td>31</td>\n",
       "    </tr>\n",
       "    <tr>\n",
       "      <th>2</th>\n",
       "      <td>2018-05-31 23:59:51</td>\n",
       "      <td>2018-06-01 00:08:09</td>\n",
       "      <td>483</td>\n",
       "      <td>E 12 St &amp; 3 Ave</td>\n",
       "      <td>368</td>\n",
       "      <td>Carmine St &amp; 6 Ave</td>\n",
       "      <td>Subscriber</td>\n",
       "      <td>19692</td>\n",
       "      <td>male</td>\n",
       "      <td>39</td>\n",
       "      <td>8.28</td>\n",
       "      <td>8</td>\n",
       "      <td>23</td>\n",
       "      <td>31</td>\n",
       "    </tr>\n",
       "    <tr>\n",
       "      <th>3</th>\n",
       "      <td>2018-05-31 23:59:48</td>\n",
       "      <td>2018-06-01 00:07:33</td>\n",
       "      <td>3107</td>\n",
       "      <td>Bedford Ave &amp; Nassau Ave</td>\n",
       "      <td>3076</td>\n",
       "      <td>Scholes St &amp; Manhattan Ave</td>\n",
       "      <td>Subscriber</td>\n",
       "      <td>28285</td>\n",
       "      <td>male</td>\n",
       "      <td>28</td>\n",
       "      <td>7.75</td>\n",
       "      <td>8</td>\n",
       "      <td>23</td>\n",
       "      <td>31</td>\n",
       "    </tr>\n",
       "    <tr>\n",
       "      <th>4</th>\n",
       "      <td>2018-05-31 23:59:45</td>\n",
       "      <td>2018-06-01 00:07:48</td>\n",
       "      <td>3341</td>\n",
       "      <td>Central Park West &amp; W 102 St</td>\n",
       "      <td>3400</td>\n",
       "      <td>E 110 St &amp; Madison Ave</td>\n",
       "      <td>Subscriber</td>\n",
       "      <td>21000</td>\n",
       "      <td>female</td>\n",
       "      <td>51</td>\n",
       "      <td>8.05</td>\n",
       "      <td>8</td>\n",
       "      <td>23</td>\n",
       "      <td>31</td>\n",
       "    </tr>\n",
       "  </tbody>\n",
       "</table>\n",
       "</div>"
      ],
      "text/plain": [
       "            start_time            stop_time  start_station_id  \\\n",
       "0  2018-05-31 23:59:59  2018-06-01 00:12:57               312   \n",
       "1  2018-05-31 23:59:59  2018-06-01 00:12:26               401   \n",
       "2  2018-05-31 23:59:51  2018-06-01 00:08:09               483   \n",
       "3  2018-05-31 23:59:48  2018-06-01 00:07:33              3107   \n",
       "4  2018-05-31 23:59:45  2018-06-01 00:07:48              3341   \n",
       "\n",
       "             start_station_name  end_station_id            end_station_name  \\\n",
       "0         Allen St & Stanton St             460          S 4 St & Wythe Ave   \n",
       "1       Allen St & Rivington St             360        William St & Pine St   \n",
       "2               E 12 St & 3 Ave             368          Carmine St & 6 Ave   \n",
       "3      Bedford Ave & Nassau Ave            3076  Scholes St & Manhattan Ave   \n",
       "4  Central Park West & W 102 St            3400      E 110 St & Madison Ave   \n",
       "\n",
       "    user_type  bike_id  gender  age  trip_duration  trip_duration_rounded  \\\n",
       "0  Subscriber    25805    male   32          12.97                     13   \n",
       "1  Subscriber    17258    male   24          12.45                     12   \n",
       "2  Subscriber    19692    male   39           8.28                      8   \n",
       "3  Subscriber    28285    male   28           7.75                      8   \n",
       "4  Subscriber    21000  female   51           8.05                      8   \n",
       "\n",
       "  hour date  \n",
       "0   23  31   \n",
       "1   23  31   \n",
       "2   23  31   \n",
       "3   23  31   \n",
       "4   23  31   "
      ]
     },
     "execution_count": 272,
     "metadata": {},
     "output_type": "execute_result"
    }
   ],
   "source": [
    "df['date'] = df['start_time'].str[8:11]\n",
    "df.head()"
   ]
  },
  {
   "cell_type": "code",
   "execution_count": 273,
   "id": "3d5eabaa",
   "metadata": {},
   "outputs": [],
   "source": [
    "df_date = df.groupby(['date', 'gender']).date.count().unstack()\n",
    "df_date = df_date.reset_index()"
   ]
  },
  {
   "cell_type": "code",
   "execution_count": 274,
   "id": "18d87269",
   "metadata": {},
   "outputs": [
    {
     "data": {
      "text/plain": [
       "Text(0, 0.5, 'Number of trips')"
      ]
     },
     "execution_count": 274,
     "metadata": {},
     "output_type": "execute_result"
    },
    {
     "data": {
      "image/png": "[encoded data removed]",
      "text/plain": [
       "<Figure size 1152x576 with 1 Axes>"
      ]
     },
     "metadata": {
      "needs_background": "light"
     },
     "output_type": "display_data"
    }
   ],
   "source": [
    "df_date.plot(kind = 'bar', figsize=(16,8), colormap = 'Paired')\n",
    "plt.title('Number of starting trips per day')\n",
    "plt.xlabel('Date')\n",
    "plt.ylabel('Number of trips')"
   ]
  },
  {
   "cell_type": "markdown",
   "id": "73dd4518",
   "metadata": {},
   "source": [
    "In may 2018, the dates 5, 12, 19, 26 are Saturdays. We can se that the number of bike rentals decreases during the weekend. "
   ]
  },
  {
   "cell_type": "markdown",
   "id": "182007d4",
   "metadata": {},
   "source": [
    "#### Testing Plotly"
   ]
  },
  {
   "cell_type": "code",
   "execution_count": 275,
   "id": "4e9cb582",
   "metadata": {},
   "outputs": [],
   "source": [
    "import plotly.express as px"
   ]
  },
  {
   "cell_type": "code",
   "execution_count": 276,
   "id": "df6a5b4e",
   "metadata": {},
   "outputs": [
    {
     "data": {
      "application/vnd.plotly.v1+json": {
       "config": {
        "plotlyServerURL": "https://plot.ly"
       },
       "data": [
        {
         "alignmentgroup": "True",
         "hovertemplate": "gender=female<br>date=%{x}<br>value=%{y}<extra></extra>",
         "legendgroup": "female",
         "marker": {
          "color": "#636efa",
          "pattern": {
           "shape": ""
          }
         },
         "name": "female",
         "offsetgroup": "female",
         "orientation": "v",
         "showlegend": true,
         "textposition": "auto",
         "type": "bar",
         "x": [
          "01 ",
          "02 ",
          "03 ",
          "04 ",
          "05 ",
          "06 ",
          "07 ",
          "08 ",
          "09 ",
          "10 ",
          "11 ",
          "12 ",
          "13 ",
          "14 ",
          "15 ",
          "16 ",
          "17 ",
          "18 ",
          "19 ",
          "20 ",
          "21 ",
          "22 ",
          "23 ",
          "24 ",
          "25 ",
          "26 ",
          "27 ",
          "28 ",
          "29 ",
          "30 ",
          "31 "
         ],
         "xaxis": "x",
         "y": [
          16322,
          17482,
          15449,
          15663,
          14741,
          11499,
          15340,
          16921,
          17955,
          15250,
          16648,
          7917,
          5968,
          14778,
          11806,
          7207,
          10745,
          13733,
          3617,
          13711,
          16416,
          10794,
          16879,
          17303,
          16011,
          11884,
          5857,
          11801,
          16336,
          16980,
          12564
         ],
         "yaxis": "y"
        },
        {
         "alignmentgroup": "True",
         "hovertemplate": "gender=male<br>date=%{x}<br>value=%{y}<extra></extra>",
         "legendgroup": "male",
         "marker": {
          "color": "#EF553B",
          "pattern": {
           "shape": ""
          }
         },
         "name": "male",
         "offsetgroup": "male",
         "orientation": "v",
         "showlegend": true,
         "textposition": "auto",
         "type": "bar",
         "x": [
          "01 ",
          "02 ",
          "03 ",
          "04 ",
          "05 ",
          "06 ",
          "07 ",
          "08 ",
          "09 ",
          "10 ",
          "11 ",
          "12 ",
          "13 ",
          "14 ",
          "15 ",
          "16 ",
          "17 ",
          "18 ",
          "19 ",
          "20 ",
          "21 ",
          "22 ",
          "23 ",
          "24 ",
          "25 ",
          "26 ",
          "27 ",
          "28 ",
          "29 ",
          "30 ",
          "31 "
         ],
         "xaxis": "x",
         "y": [
          47270,
          50455,
          46033,
          46116,
          34762,
          28651,
          45155,
          48585,
          51903,
          45234,
          48123,
          21413,
          16667,
          42948,
          35657,
          23588,
          34727,
          43028,
          12754,
          32038,
          45871,
          34171,
          48585,
          49184,
          43843,
          27069,
          15813,
          26872,
          45622,
          48286,
          39334
         ],
         "yaxis": "y"
        }
       ],
       "layout": {
        "barmode": "relative",
        "legend": {
         "title": {
          "text": "gender"
         },
         "tracegroupgap": 0
        },
        "template": {
         "data": {
          "bar": [
           {
            "error_x": {
             "color": "#2a3f5f"
            },
            "error_y": {
             "color": "#2a3f5f"
            },
            "marker": {
             "line": {
              "color": "#E5ECF6",
              "width": 0.5
             },
             "pattern": {
              "fillmode": "overlay",
              "size": 10,
              "solidity": 0.2
             }
            },
            "type": "bar"
           }
          ],
          "barpolar": [
           {
            "marker": {
             "line": {
              "color": "#E5ECF6",
              "width": 0.5
             },
             "pattern": {
              "fillmode": "overlay",
              "size": 10,
              "solidity": 0.2
             }
            },
            "type": "barpolar"
           }
          ],
          "carpet": [
           {
            "aaxis": {
             "endlinecolor": "#2a3f5f",
             "gridcolor": "white",
             "linecolor": "white",
             "minorgridcolor": "white",
             "startlinecolor": "#2a3f5f"
            },
            "baxis": {
             "endlinecolor": "#2a3f5f",
             "gridcolor": "white",
             "linecolor": "white",
             "minorgridcolor": "white",
             "startlinecolor": "#2a3f5f"
            },
            "type": "carpet"
           }
          ],
          "choropleth": [
           {
            "colorbar": {
             "outlinewidth": 0,
             "ticks": ""
            },
            "type": "choropleth"
           }
          ],
          "contour": [
           {
            "colorbar": {
             "outlinewidth": 0,
             "ticks": ""
            },
            "colorscale": [
             [
              0,
              "#0d0887"
             ],
             [
              0.1111111111111111,
              "#46039f"
             ],
             [
              0.2222222222222222,
              "#7201a8"
             ],
             [
              0.3333333333333333,
              "#9c179e"
             ],
             [
              0.4444444444444444,
              "#bd3786"
             ],
             [
              0.5555555555555556,
              "#d8576b"
             ],
             [
              0.6666666666666666,
              "#ed7953"
             ],
             [
              0.7777777777777778,
              "#fb9f3a"
             ],
             [
              0.8888888888888888,
              "#fdca26"
             ],
             [
              1,
              "#f0f921"
             ]
            ],
            "type": "contour"
           }
          ],
          "contourcarpet": [
           {
            "colorbar": {
             "outlinewidth": 0,
             "ticks": ""
            },
            "type": "contourcarpet"
           }
          ],
          "heatmap": [
           {
            "colorbar": {
             "outlinewidth": 0,
             "ticks": ""
            },
            "colorscale": [
             [
              0,
              "#0d0887"
             ],
             [
              0.1111111111111111,
              "#46039f"
             ],
             [
              0.2222222222222222,
              "#7201a8"
             ],
             [
              0.3333333333333333,
              "#9c179e"
             ],
             [
              0.4444444444444444,
              "#bd3786"
             ],
             [
              0.5555555555555556,
              "#d8576b"
             ],
             [
              0.6666666666666666,
              "#ed7953"
             ],
             [
              0.7777777777777778,
              "#fb9f3a"
             ],
             [
              0.8888888888888888,
              "#fdca26"
             ],
             [
              1,
              "#f0f921"
             ]
            ],
            "type": "heatmap"
           }
          ],
          "heatmapgl": [
           {
            "colorbar": {
             "outlinewidth": 0,
             "ticks": ""
            },
            "colorscale": [
             [
              0,
              "#0d0887"
             ],
             [
              0.1111111111111111,
              "#46039f"
             ],
             [
              0.2222222222222222,
              "#7201a8"
             ],
             [
              0.3333333333333333,
              "#9c179e"
             ],
             [
              0.4444444444444444,
              "#bd3786"
             ],
             [
              0.5555555555555556,
              "#d8576b"
             ],
             [
              0.6666666666666666,
              "#ed7953"
             ],
             [
              0.7777777777777778,
              "#fb9f3a"
             ],
             [
              0.8888888888888888,
              "#fdca26"
             ],
             [
              1,
              "#f0f921"
             ]
            ],
            "type": "heatmapgl"
           }
          ],
          "histogram": [
           {
            "marker": {
             "pattern": {
              "fillmode": "overlay",
              "size": 10,
              "solidity": 0.2
             }
            },
            "type": "histogram"
           }
          ],
          "histogram2d": [
           {
            "colorbar": {
             "outlinewidth": 0,
             "ticks": ""
            },
            "colorscale": [
             [
              0,
              "#0d0887"
             ],
             [
              0.1111111111111111,
              "#46039f"
             ],
             [
              0.2222222222222222,
              "#7201a8"
             ],
             [
              0.3333333333333333,
              "#9c179e"
             ],
             [
              0.4444444444444444,
              "#bd3786"
             ],
             [
              0.5555555555555556,
              "#d8576b"
             ],
             [
              0.6666666666666666,
              "#ed7953"
             ],
             [
              0.7777777777777778,
              "#fb9f3a"
             ],
             [
              0.8888888888888888,
              "#fdca26"
             ],
             [
              1,
              "#f0f921"
             ]
            ],
            "type": "histogram2d"
           }
          ],
          "histogram2dcontour": [
           {
            "colorbar": {
             "outlinewidth": 0,
             "ticks": ""
            },
            "colorscale": [
             [
              0,
              "#0d0887"
             ],
             [
              0.1111111111111111,
              "#46039f"
             ],
             [
              0.2222222222222222,
              "#7201a8"
             ],
             [
              0.3333333333333333,
              "#9c179e"
             ],
             [
              0.4444444444444444,
              "#bd3786"
             ],
             [
              0.5555555555555556,
              "#d8576b"
             ],
             [
              0.6666666666666666,
              "#ed7953"
             ],
             [
              0.7777777777777778,
              "#fb9f3a"
             ],
             [
              0.8888888888888888,
              "#fdca26"
             ],
             [
              1,
              "#f0f921"
             ]
            ],
            "type": "histogram2dcontour"
           }
          ],
          "mesh3d": [
           {
            "colorbar": {
             "outlinewidth": 0,
             "ticks": ""
            },
            "type": "mesh3d"
           }
          ],
          "parcoords": [
           {
            "line": {
             "colorbar": {
              "outlinewidth": 0,
              "ticks": ""
             }
            },
            "type": "parcoords"
           }
          ],
          "pie": [
           {
            "automargin": true,
            "type": "pie"
           }
          ],
          "scatter": [
           {
            "marker": {
             "colorbar": {
              "outlinewidth": 0,
              "ticks": ""
             }
            },
            "type": "scatter"
           }
          ],
          "scatter3d": [
           {
            "line": {
             "colorbar": {
              "outlinewidth": 0,
              "ticks": ""
             }
            },
            "marker": {
             "colorbar": {
              "outlinewidth": 0,
              "ticks": ""
             }
            },
            "type": "scatter3d"
           }
          ],
          "scattercarpet": [
           {
            "marker": {
             "colorbar": {
              "outlinewidth": 0,
              "ticks": ""
             }
            },
            "type": "scattercarpet"
           }
          ],
          "scattergeo": [
           {
            "marker": {
             "colorbar": {
              "outlinewidth": 0,
              "ticks": ""
             }
            },
            "type": "scattergeo"
           }
          ],
          "scattergl": [
           {
            "marker": {
             "colorbar": {
              "outlinewidth": 0,
              "ticks": ""
             }
            },
            "type": "scattergl"
           }
          ],
          "scattermapbox": [
           {
            "marker": {
             "colorbar": {
              "outlinewidth": 0,
              "ticks": ""
             }
            },
            "type": "scattermapbox"
           }
          ],
          "scatterpolar": [
           {
            "marker": {
             "colorbar": {
              "outlinewidth": 0,
              "ticks": ""
             }
            },
            "type": "scatterpolar"
           }
          ],
          "scatterpolargl": [
           {
            "marker": {
             "colorbar": {
              "outlinewidth": 0,
              "ticks": ""
             }
            },
            "type": "scatterpolargl"
           }
          ],
          "scatterternary": [
           {
            "marker": {
             "colorbar": {
              "outlinewidth": 0,
              "ticks": ""
             }
            },
            "type": "scatterternary"
           }
          ],
          "surface": [
           {
            "colorbar": {
             "outlinewidth": 0,
             "ticks": ""
            },
            "colorscale": [
             [
              0,
              "#0d0887"
             ],
             [
              0.1111111111111111,
              "#46039f"
             ],
             [
              0.2222222222222222,
              "#7201a8"
             ],
             [
              0.3333333333333333,
              "#9c179e"
             ],
             [
              0.4444444444444444,
              "#bd3786"
             ],
             [
              0.5555555555555556,
              "#d8576b"
             ],
             [
              0.6666666666666666,
              "#ed7953"
             ],
             [
              0.7777777777777778,
              "#fb9f3a"
             ],
             [
              0.8888888888888888,
              "#fdca26"
             ],
             [
              1,
              "#f0f921"
             ]
            ],
            "type": "surface"
           }
          ],
          "table": [
           {
            "cells": {
             "fill": {
              "color": "#EBF0F8"
             },
             "line": {
              "color": "white"
             }
            },
            "header": {
             "fill": {
              "color": "#C8D4E3"
             },
             "line": {
              "color": "white"
             }
            },
            "type": "table"
           }
          ]
         },
         "layout": {
          "annotationdefaults": {
           "arrowcolor": "#2a3f5f",
           "arrowhead": 0,
           "arrowwidth": 1
          },
          "autotypenumbers": "strict",
          "coloraxis": {
           "colorbar": {
            "outlinewidth": 0,
            "ticks": ""
           }
          },
          "colorscale": {
           "diverging": [
            [
             0,
             "#8e0152"
            ],
            [
             0.1,
             "#c51b7d"
            ],
            [
             0.2,
             "#de77ae"
            ],
            [
             0.3,
             "#f1b6da"
            ],
            [
             0.4,
             "#fde0ef"
            ],
            [
             0.5,
             "#f7f7f7"
            ],
            [
             0.6,
             "#e6f5d0"
            ],
            [
             0.7,
             "#b8e186"
            ],
            [
             0.8,
             "#7fbc41"
            ],
            [
             0.9,
             "#4d9221"
            ],
            [
             1,
             "#276419"
            ]
           ],
           "sequential": [
            [
             0,
             "#0d0887"
            ],
            [
             0.1111111111111111,
             "#46039f"
            ],
            [
             0.2222222222222222,
             "#7201a8"
            ],
            [
             0.3333333333333333,
             "#9c179e"
            ],
            [
             0.4444444444444444,
             "#bd3786"
            ],
            [
             0.5555555555555556,
             "#d8576b"
            ],
            [
             0.6666666666666666,
             "#ed7953"
            ],
            [
             0.7777777777777778,
             "#fb9f3a"
            ],
            [
             0.8888888888888888,
             "#fdca26"
            ],
            [
             1,
             "#f0f921"
            ]
           ],
           "sequentialminus": [
            [
             0,
             "#0d0887"
            ],
            [
             0.1111111111111111,
             "#46039f"
            ],
            [
             0.2222222222222222,
             "#7201a8"
            ],
            [
             0.3333333333333333,
             "#9c179e"
            ],
            [
             0.4444444444444444,
             "#bd3786"
            ],
            [
             0.5555555555555556,
             "#d8576b"
            ],
            [
             0.6666666666666666,
             "#ed7953"
            ],
            [
             0.7777777777777778,
             "#fb9f3a"
            ],
            [
             0.8888888888888888,
             "#fdca26"
            ],
            [
             1,
             "#f0f921"
            ]
           ]
          },
          "colorway": [
           "#636efa",
           "#EF553B",
           "#00cc96",
           "#ab63fa",
           "#FFA15A",
           "#19d3f3",
           "#FF6692",
           "#B6E880",
           "#FF97FF",
           "#FECB52"
          ],
          "font": {
           "color": "#2a3f5f"
          },
          "geo": {
           "bgcolor": "white",
           "lakecolor": "white",
           "landcolor": "#E5ECF6",
           "showlakes": true,
           "showland": true,
           "subunitcolor": "white"
          },
          "hoverlabel": {
           "align": "left"
          },
          "hovermode": "closest",
          "mapbox": {
           "style": "light"
          },
          "paper_bgcolor": "white",
          "plot_bgcolor": "#E5ECF6",
          "polar": {
           "angularaxis": {
            "gridcolor": "white",
            "linecolor": "white",
            "ticks": ""
           },
           "bgcolor": "#E5ECF6",
           "radialaxis": {
            "gridcolor": "white",
            "linecolor": "white",
            "ticks": ""
           }
          },
          "scene": {
           "xaxis": {
            "backgroundcolor": "#E5ECF6",
            "gridcolor": "white",
            "gridwidth": 2,
            "linecolor": "white",
            "showbackground": true,
            "ticks": "",
            "zerolinecolor": "white"
           },
           "yaxis": {
            "backgroundcolor": "#E5ECF6",
            "gridcolor": "white",
            "gridwidth": 2,
            "linecolor": "white",
            "showbackground": true,
            "ticks": "",
            "zerolinecolor": "white"
           },
           "zaxis": {
            "backgroundcolor": "#E5ECF6",
            "gridcolor": "white",
            "gridwidth": 2,
            "linecolor": "white",
            "showbackground": true,
            "ticks": "",
            "zerolinecolor": "white"
           }
          },
          "shapedefaults": {
           "line": {
            "color": "#2a3f5f"
           }
          },
          "ternary": {
           "aaxis": {
            "gridcolor": "white",
            "linecolor": "white",
            "ticks": ""
           },
           "baxis": {
            "gridcolor": "white",
            "linecolor": "white",
            "ticks": ""
           },
           "bgcolor": "#E5ECF6",
           "caxis": {
            "gridcolor": "white",
            "linecolor": "white",
            "ticks": ""
           }
          },
          "title": {
           "x": 0.05
          },
          "xaxis": {
           "automargin": true,
           "gridcolor": "white",
           "linecolor": "white",
           "ticks": "",
           "title": {
            "standoff": 15
           },
           "zerolinecolor": "white",
           "zerolinewidth": 2
          },
          "yaxis": {
           "automargin": true,
           "gridcolor": "white",
           "linecolor": "white",
           "ticks": "",
           "title": {
            "standoff": 15
           },
           "zerolinecolor": "white",
           "zerolinewidth": 2
          }
         }
        },
        "title": {
         "text": "Number of starting trips per day"
        },
        "xaxis": {
         "anchor": "y",
         "domain": [
          0,
          1
         ],
         "title": {
          "text": "date"
         }
        },
        "yaxis": {
         "anchor": "x",
         "domain": [
          0,
          1
         ],
         "title": {
          "text": "value"
         }
        }
       }
      },
      "text/html": [
       "<div>                            <div id=\"6b3be0a6-0f1e-484d-978e-dc1db13577ad\" class=\"plotly-graph-div\" style=\"height:525px; width:100%;\"></div>            <script type=\"text/javascript\">                require([\"plotly\"], function(Plotly) {                    window.PLOTLYENV=window.PLOTLYENV || {};                                    if (document.getElementById(\"6b3be0a6-0f1e-484d-978e-dc1db13577ad\")) {                    Plotly.newPlot(                        \"6b3be0a6-0f1e-484d-978e-dc1db13577ad\",                        [{\"alignmentgroup\":\"True\",\"hovertemplate\":\"gender=female<br>date=%{x}<br>value=%{y}<extra></extra>\",\"legendgroup\":\"female\",\"marker\":{\"color\":\"#636efa\",\"pattern\":{\"shape\":\"\"}},\"name\":\"female\",\"offsetgroup\":\"female\",\"orientation\":\"v\",\"showlegend\":true,\"textposition\":\"auto\",\"x\":[\"01 \",\"02 \",\"03 \",\"04 \",\"05 \",\"06 \",\"07 \",\"08 \",\"09 \",\"10 \",\"11 \",\"12 \",\"13 \",\"14 \",\"15 \",\"16 \",\"17 \",\"18 \",\"19 \",\"20 \",\"21 \",\"22 \",\"23 \",\"24 \",\"25 \",\"26 \",\"27 \",\"28 \",\"29 \",\"30 \",\"31 \"],\"xaxis\":\"x\",\"y\":[16322,17482,15449,15663,14741,11499,15340,16921,17955,15250,16648,7917,5968,14778,11806,7207,10745,13733,3617,13711,16416,10794,16879,17303,16011,11884,5857,11801,16336,16980,12564],\"yaxis\":\"y\",\"type\":\"bar\"},{\"alignmentgroup\":\"True\",\"hovertemplate\":\"gender=male<br>date=%{x}<br>value=%{y}<extra></extra>\",\"legendgroup\":\"male\",\"marker\":{\"color\":\"#EF553B\",\"pattern\":{\"shape\":\"\"}},\"name\":\"male\",\"offsetgroup\":\"male\",\"orientation\":\"v\",\"showlegend\":true,\"textposition\":\"auto\",\"x\":[\"01 \",\"02 \",\"03 \",\"04 \",\"05 \",\"06 \",\"07 \",\"08 \",\"09 \",\"10 \",\"11 \",\"12 \",\"13 \",\"14 \",\"15 \",\"16 \",\"17 \",\"18 \",\"19 \",\"20 \",\"21 \",\"22 \",\"23 \",\"24 \",\"25 \",\"26 \",\"27 \",\"28 \",\"29 \",\"30 \",\"31 \"],\"xaxis\":\"x\",\"y\":[47270,50455,46033,46116,34762,28651,45155,48585,51903,45234,48123,21413,16667,42948,35657,23588,34727,43028,12754,32038,45871,34171,48585,49184,43843,27069,15813,26872,45622,48286,39334],\"yaxis\":\"y\",\"type\":\"bar\"}],                        {\"template\":{\"data\":{\"bar\":[{\"error_x\":{\"color\":\"#2a3f5f\"},\"error_y\":{\"color\":\"#2a3f5f\"},\"marker\":{\"line\":{\"color\":\"#E5ECF6\",\"width\":0.5},\"pattern\":{\"fillmode\":\"overlay\",\"size\":10,\"solidity\":0.2}},\"type\":\"bar\"}],\"barpolar\":[{\"marker\":{\"line\":{\"color\":\"#E5ECF6\",\"width\":0.5},\"pattern\":{\"fillmode\":\"overlay\",\"size\":10,\"solidity\":0.2}},\"type\":\"barpolar\"}],\"carpet\":[{\"aaxis\":{\"endlinecolor\":\"#2a3f5f\",\"gridcolor\":\"white\",\"linecolor\":\"white\",\"minorgridcolor\":\"white\",\"startlinecolor\":\"#2a3f5f\"},\"baxis\":{\"endlinecolor\":\"#2a3f5f\",\"gridcolor\":\"white\",\"linecolor\":\"white\",\"minorgridcolor\":\"white\",\"startlinecolor\":\"#2a3f5f\"},\"type\":\"carpet\"}],\"choropleth\":[{\"colorbar\":{\"outlinewidth\":0,\"ticks\":\"\"},\"type\":\"choropleth\"}],\"contour\":[{\"colorbar\":{\"outlinewidth\":0,\"ticks\":\"\"},\"colorscale\":[[0.0,\"#0d0887\"],[0.1111111111111111,\"#46039f\"],[0.2222222222222222,\"#7201a8\"],[0.3333333333333333,\"#9c179e\"],[0.4444444444444444,\"#bd3786\"],[0.5555555555555556,\"#d8576b\"],[0.6666666666666666,\"#ed7953\"],[0.7777777777777778,\"#fb9f3a\"],[0.8888888888888888,\"#fdca26\"],[1.0,\"#f0f921\"]],\"type\":\"contour\"}],\"contourcarpet\":[{\"colorbar\":{\"outlinewidth\":0,\"ticks\":\"\"},\"type\":\"contourcarpet\"}],\"heatmap\":[{\"colorbar\":{\"outlinewidth\":0,\"ticks\":\"\"},\"colorscale\":[[0.0,\"#0d0887\"],[0.1111111111111111,\"#46039f\"],[0.2222222222222222,\"#7201a8\"],[0.3333333333333333,\"#9c179e\"],[0.4444444444444444,\"#bd3786\"],[0.5555555555555556,\"#d8576b\"],[0.6666666666666666,\"#ed7953\"],[0.7777777777777778,\"#fb9f3a\"],[0.8888888888888888,\"#fdca26\"],[1.0,\"#f0f921\"]],\"type\":\"heatmap\"}],\"heatmapgl\":[{\"colorbar\":{\"outlinewidth\":0,\"ticks\":\"\"},\"colorscale\":[[0.0,\"#0d0887\"],[0.1111111111111111,\"#46039f\"],[0.2222222222222222,\"#7201a8\"],[0.3333333333333333,\"#9c179e\"],[0.4444444444444444,\"#bd3786\"],[0.5555555555555556,\"#d8576b\"],[0.6666666666666666,\"#ed7953\"],[0.7777777777777778,\"#fb9f3a\"],[0.8888888888888888,\"#fdca26\"],[1.0,\"#f0f921\"]],\"type\":\"heatmapgl\"}],\"histogram\":[{\"marker\":{\"pattern\":{\"fillmode\":\"overlay\",\"size\":10,\"solidity\":0.2}},\"type\":\"histogram\"}],\"histogram2d\":[{\"colorbar\":{\"outlinewidth\":0,\"ticks\":\"\"},\"colorscale\":[[0.0,\"#0d0887\"],[0.1111111111111111,\"#46039f\"],[0.2222222222222222,\"#7201a8\"],[0.3333333333333333,\"#9c179e\"],[0.4444444444444444,\"#bd3786\"],[0.5555555555555556,\"#d8576b\"],[0.6666666666666666,\"#ed7953\"],[0.7777777777777778,\"#fb9f3a\"],[0.8888888888888888,\"#fdca26\"],[1.0,\"#f0f921\"]],\"type\":\"histogram2d\"}],\"histogram2dcontour\":[{\"colorbar\":{\"outlinewidth\":0,\"ticks\":\"\"},\"colorscale\":[[0.0,\"#0d0887\"],[0.1111111111111111,\"#46039f\"],[0.2222222222222222,\"#7201a8\"],[0.3333333333333333,\"#9c179e\"],[0.4444444444444444,\"#bd3786\"],[0.5555555555555556,\"#d8576b\"],[0.6666666666666666,\"#ed7953\"],[0.7777777777777778,\"#fb9f3a\"],[0.8888888888888888,\"#fdca26\"],[1.0,\"#f0f921\"]],\"type\":\"histogram2dcontour\"}],\"mesh3d\":[{\"colorbar\":{\"outlinewidth\":0,\"ticks\":\"\"},\"type\":\"mesh3d\"}],\"parcoords\":[{\"line\":{\"colorbar\":{\"outlinewidth\":0,\"ticks\":\"\"}},\"type\":\"parcoords\"}],\"pie\":[{\"automargin\":true,\"type\":\"pie\"}],\"scatter\":[{\"marker\":{\"colorbar\":{\"outlinewidth\":0,\"ticks\":\"\"}},\"type\":\"scatter\"}],\"scatter3d\":[{\"line\":{\"colorbar\":{\"outlinewidth\":0,\"ticks\":\"\"}},\"marker\":{\"colorbar\":{\"outlinewidth\":0,\"ticks\":\"\"}},\"type\":\"scatter3d\"}],\"scattercarpet\":[{\"marker\":{\"colorbar\":{\"outlinewidth\":0,\"ticks\":\"\"}},\"type\":\"scattercarpet\"}],\"scattergeo\":[{\"marker\":{\"colorbar\":{\"outlinewidth\":0,\"ticks\":\"\"}},\"type\":\"scattergeo\"}],\"scattergl\":[{\"marker\":{\"colorbar\":{\"outlinewidth\":0,\"ticks\":\"\"}},\"type\":\"scattergl\"}],\"scattermapbox\":[{\"marker\":{\"colorbar\":{\"outlinewidth\":0,\"ticks\":\"\"}},\"type\":\"scattermapbox\"}],\"scatterpolar\":[{\"marker\":{\"colorbar\":{\"outlinewidth\":0,\"ticks\":\"\"}},\"type\":\"scatterpolar\"}],\"scatterpolargl\":[{\"marker\":{\"colorbar\":{\"outlinewidth\":0,\"ticks\":\"\"}},\"type\":\"scatterpolargl\"}],\"scatterternary\":[{\"marker\":{\"colorbar\":{\"outlinewidth\":0,\"ticks\":\"\"}},\"type\":\"scatterternary\"}],\"surface\":[{\"colorbar\":{\"outlinewidth\":0,\"ticks\":\"\"},\"colorscale\":[[0.0,\"#0d0887\"],[0.1111111111111111,\"#46039f\"],[0.2222222222222222,\"#7201a8\"],[0.3333333333333333,\"#9c179e\"],[0.4444444444444444,\"#bd3786\"],[0.5555555555555556,\"#d8576b\"],[0.6666666666666666,\"#ed7953\"],[0.7777777777777778,\"#fb9f3a\"],[0.8888888888888888,\"#fdca26\"],[1.0,\"#f0f921\"]],\"type\":\"surface\"}],\"table\":[{\"cells\":{\"fill\":{\"color\":\"#EBF0F8\"},\"line\":{\"color\":\"white\"}},\"header\":{\"fill\":{\"color\":\"#C8D4E3\"},\"line\":{\"color\":\"white\"}},\"type\":\"table\"}]},\"layout\":{\"annotationdefaults\":{\"arrowcolor\":\"#2a3f5f\",\"arrowhead\":0,\"arrowwidth\":1},\"autotypenumbers\":\"strict\",\"coloraxis\":{\"colorbar\":{\"outlinewidth\":0,\"ticks\":\"\"}},\"colorscale\":{\"diverging\":[[0,\"#8e0152\"],[0.1,\"#c51b7d\"],[0.2,\"#de77ae\"],[0.3,\"#f1b6da\"],[0.4,\"#fde0ef\"],[0.5,\"#f7f7f7\"],[0.6,\"#e6f5d0\"],[0.7,\"#b8e186\"],[0.8,\"#7fbc41\"],[0.9,\"#4d9221\"],[1,\"#276419\"]],\"sequential\":[[0.0,\"#0d0887\"],[0.1111111111111111,\"#46039f\"],[0.2222222222222222,\"#7201a8\"],[0.3333333333333333,\"#9c179e\"],[0.4444444444444444,\"#bd3786\"],[0.5555555555555556,\"#d8576b\"],[0.6666666666666666,\"#ed7953\"],[0.7777777777777778,\"#fb9f3a\"],[0.8888888888888888,\"#fdca26\"],[1.0,\"#f0f921\"]],\"sequentialminus\":[[0.0,\"#0d0887\"],[0.1111111111111111,\"#46039f\"],[0.2222222222222222,\"#7201a8\"],[0.3333333333333333,\"#9c179e\"],[0.4444444444444444,\"#bd3786\"],[0.5555555555555556,\"#d8576b\"],[0.6666666666666666,\"#ed7953\"],[0.7777777777777778,\"#fb9f3a\"],[0.8888888888888888,\"#fdca26\"],[1.0,\"#f0f921\"]]},\"colorway\":[\"#636efa\",\"#EF553B\",\"#00cc96\",\"#ab63fa\",\"#FFA15A\",\"#19d3f3\",\"#FF6692\",\"#B6E880\",\"#FF97FF\",\"#FECB52\"],\"font\":{\"color\":\"#2a3f5f\"},\"geo\":{\"bgcolor\":\"white\",\"lakecolor\":\"white\",\"landcolor\":\"#E5ECF6\",\"showlakes\":true,\"showland\":true,\"subunitcolor\":\"white\"},\"hoverlabel\":{\"align\":\"left\"},\"hovermode\":\"closest\",\"mapbox\":{\"style\":\"light\"},\"paper_bgcolor\":\"white\",\"plot_bgcolor\":\"#E5ECF6\",\"polar\":{\"angularaxis\":{\"gridcolor\":\"white\",\"linecolor\":\"white\",\"ticks\":\"\"},\"bgcolor\":\"#E5ECF6\",\"radialaxis\":{\"gridcolor\":\"white\",\"linecolor\":\"white\",\"ticks\":\"\"}},\"scene\":{\"xaxis\":{\"backgroundcolor\":\"#E5ECF6\",\"gridcolor\":\"white\",\"gridwidth\":2,\"linecolor\":\"white\",\"showbackground\":true,\"ticks\":\"\",\"zerolinecolor\":\"white\"},\"yaxis\":{\"backgroundcolor\":\"#E5ECF6\",\"gridcolor\":\"white\",\"gridwidth\":2,\"linecolor\":\"white\",\"showbackground\":true,\"ticks\":\"\",\"zerolinecolor\":\"white\"},\"zaxis\":{\"backgroundcolor\":\"#E5ECF6\",\"gridcolor\":\"white\",\"gridwidth\":2,\"linecolor\":\"white\",\"showbackground\":true,\"ticks\":\"\",\"zerolinecolor\":\"white\"}},\"shapedefaults\":{\"line\":{\"color\":\"#2a3f5f\"}},\"ternary\":{\"aaxis\":{\"gridcolor\":\"white\",\"linecolor\":\"white\",\"ticks\":\"\"},\"baxis\":{\"gridcolor\":\"white\",\"linecolor\":\"white\",\"ticks\":\"\"},\"bgcolor\":\"#E5ECF6\",\"caxis\":{\"gridcolor\":\"white\",\"linecolor\":\"white\",\"ticks\":\"\"}},\"title\":{\"x\":0.05},\"xaxis\":{\"automargin\":true,\"gridcolor\":\"white\",\"linecolor\":\"white\",\"ticks\":\"\",\"title\":{\"standoff\":15},\"zerolinecolor\":\"white\",\"zerolinewidth\":2},\"yaxis\":{\"automargin\":true,\"gridcolor\":\"white\",\"linecolor\":\"white\",\"ticks\":\"\",\"title\":{\"standoff\":15},\"zerolinecolor\":\"white\",\"zerolinewidth\":2}}},\"xaxis\":{\"anchor\":\"y\",\"domain\":[0.0,1.0],\"title\":{\"text\":\"date\"}},\"yaxis\":{\"anchor\":\"x\",\"domain\":[0.0,1.0],\"title\":{\"text\":\"value\"}},\"legend\":{\"title\":{\"text\":\"gender\"},\"tracegroupgap\":0},\"title\":{\"text\":\"Number of starting trips per day\"},\"barmode\":\"relative\"},                        {\"responsive\": true}                    ).then(function(){\n",
       "                            \n",
       "var gd = document.getElementById('6b3be0a6-0f1e-484d-978e-dc1db13577ad');\n",
       "var x = new MutationObserver(function (mutations, observer) {{\n",
       "        var display = window.getComputedStyle(gd).display;\n",
       "        if (!display || display === 'none') {{\n",
       "            console.log([gd, 'removed!']);\n",
       "            Plotly.purge(gd);\n",
       "            observer.disconnect();\n",
       "        }}\n",
       "}});\n",
       "\n",
       "// Listen for the removal of the full notebook cells\n",
       "var notebookContainer = gd.closest('#notebook-container');\n",
       "if (notebookContainer) {{\n",
       "    x.observe(notebookContainer, {childList: true});\n",
       "}}\n",
       "\n",
       "// Listen for the clearing of the current output cell\n",
       "var outputEl = gd.closest('.output');\n",
       "if (outputEl) {{\n",
       "    x.observe(outputEl, {childList: true});\n",
       "}}\n",
       "\n",
       "                        })                };                });            </script>        </div>"
      ]
     },
     "metadata": {},
     "output_type": "display_data"
    }
   ],
   "source": [
    "fig = px.bar(df_date, x='date', y=['female', 'male'], title='Number of starting trips per day', \n",
    "             labels={'variable':'gender'})\n",
    "fig.show()\n"
   ]
  }
 ],
 "metadata": {
  "kernelspec": {
   "display_name": "Python 3",
   "language": "python",
   "name": "python3"
  },
  "language_info": {
   "codemirror_mode": {
    "name": "ipython",
    "version": 3
   },
   "file_extension": ".py",
   "mimetype": "text/x-python",
   "name": "python",
   "nbconvert_exporter": "python",
   "pygments_lexer": "ipython3",
   "version": "3.8.8"
  }
 },
 "nbformat": 4,
 "nbformat_minor": 5
}
